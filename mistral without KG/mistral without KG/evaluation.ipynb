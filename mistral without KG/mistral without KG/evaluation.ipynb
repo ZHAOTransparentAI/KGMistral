{
 "cells": [
  {
   "cell_type": "code",
   "execution_count": 1,
   "metadata": {
    "pycharm": {
     "name": "#%%\n"
    }
   },
   "outputs": [],
   "source": [
    "import pandas as pd\n",
    "from rouge import Rouge\n",
    "import nltk\n",
    "from sentence_transformers import SentenceTransformer, util\n",
    "import matplotlib.pyplot as plt"
   ]
  },
  {
   "cell_type": "code",
   "execution_count": null,
   "metadata": {},
   "outputs": [],
   "source": []
  },
  {
   "cell_type": "markdown",
   "metadata": {
    "pycharm": {
     "name": "#%% md\n"
    }
   },
   "source": [
    "# Evaluating process"
   ]
  },
  {
   "cell_type": "markdown",
   "metadata": {
    "pycharm": {
     "name": "#%% md\n"
    }
   },
   "source": [
    "## Rouge"
   ]
  },
  {
   "cell_type": "code",
   "execution_count": 2,
   "metadata": {
    "collapsed": false,
    "pycharm": {
     "name": "#%%\n"
    }
   },
   "outputs": [],
   "source": [
    "# Load Excel file\n",
    "excel_file_path = 'C:/Users/crown/Desktop/ISE/praktikum docu/train_8/train_result_mistral_withoutkg.xlsx'\n",
    "df = pd.read_excel(excel_file_path)\n",
    "\n",
    "# Initialize ROUGE scorer\n",
    "rouge = Rouge()\n",
    "\n",
    "# Prepare columns to store ROUGE scores\n",
    "rouge_columns = {\n",
    "    \"ROUGE-1-f\": [],\n",
    "    \"ROUGE-1-p\": [],\n",
    "    \"ROUGE-1-r\": [],\n",
    "    \"ROUGE-2-f\": [],\n",
    "    \"ROUGE-2-p\": [],\n",
    "    \"ROUGE-2-r\": [],\n",
    "    \"ROUGE-L-f\": [],\n",
    "    \"ROUGE-L-p\": [],\n",
    "    \"ROUGE-L-r\": []\n",
    "}\n",
    "\n",
    "# Iterate through each row to calculate ROUGE scores\n",
    "for index, row in df.iterrows():\n",
    "    # Ensure Ground Truth and Predicted Answer are string types\n",
    "    ground_truth = str(row['Ground Truth']) if not pd.isnull(row['Ground Truth']) else \"\"\n",
    "    predicted_answer = str(row['answer_text']) if not pd.isnull(row['answer_text']) else \"\"\n",
    "    \n",
    "    # Skip the row if either field is empty\n",
    "    if ground_truth == \"\" or predicted_answer == \"\":\n",
    "        for key in rouge_columns:\n",
    "            rouge_columns[key].append(None)\n",
    "        continue\n",
    "\n",
    "    # Calculate ROUGE scores\n",
    "    scores = rouge.get_scores(predicted_answer, ground_truth)[0]\n",
    "\n",
    "    # Add scores to the corresponding list\n",
    "    for key in rouge_columns:\n",
    "        rouge_type, rouge_metric = key.split('-')[1].lower(), key.split('-')[2].lower()\n",
    "        rouge_key = 'rouge-{}'.format(rouge_type)\n",
    "        rouge_score = scores[rouge_key][rouge_metric]\n",
    "        rouge_columns[key].append(rouge_score)\n",
    "\n",
    "# Add scores to the DataFrame\n",
    "for key, value in rouge_columns.items():\n",
    "    df[key] = value\n",
    "\n",
    "# Save the DataFrame with ROUGE scores to a new Excel file\n",
    "output_file_path = 'C:/Users/crown/Desktop/ISE/praktikum docu/train_8/train_result_mistral_withoutkg.xlsx'\n",
    "df.to_excel(output_file_path, index=False)\n"
   ]
  },
  {
   "cell_type": "markdown",
   "metadata": {
    "collapsed": false,
    "pycharm": {
     "name": "#%% md\n"
    }
   },
   "source": [
    "## Bleu"
   ]
  },
  {
   "cell_type": "code",
   "execution_count": 3,
   "metadata": {
    "collapsed": false,
    "pycharm": {
     "name": "#%%\n"
    }
   },
   "outputs": [
    {
     "name": "stderr",
     "output_type": "stream",
     "text": [
      "[nltk_data] Downloading package punkt to\n",
      "[nltk_data]     C:\\Users\\crown\\AppData\\Roaming\\nltk_data...\n",
      "[nltk_data]   Package punkt is already up-to-date!\n",
      "c:\\ProgramData\\Anaconda3\\envs\\aiss\\lib\\site-packages\\nltk\\translate\\bleu_score.py:552: UserWarning: \n",
      "The hypothesis contains 0 counts of 2-gram overlaps.\n",
      "Therefore the BLEU score evaluates to 0, independently of\n",
      "how many N-gram overlaps of lower order it contains.\n",
      "Consider using lower n-gram order or use SmoothingFunction()\n",
      "  warnings.warn(_msg)\n",
      "c:\\ProgramData\\Anaconda3\\envs\\aiss\\lib\\site-packages\\nltk\\translate\\bleu_score.py:552: UserWarning: \n",
      "The hypothesis contains 0 counts of 3-gram overlaps.\n",
      "Therefore the BLEU score evaluates to 0, independently of\n",
      "how many N-gram overlaps of lower order it contains.\n",
      "Consider using lower n-gram order or use SmoothingFunction()\n",
      "  warnings.warn(_msg)\n",
      "c:\\ProgramData\\Anaconda3\\envs\\aiss\\lib\\site-packages\\nltk\\translate\\bleu_score.py:552: UserWarning: \n",
      "The hypothesis contains 0 counts of 4-gram overlaps.\n",
      "Therefore the BLEU score evaluates to 0, independently of\n",
      "how many N-gram overlaps of lower order it contains.\n",
      "Consider using lower n-gram order or use SmoothingFunction()\n",
      "  warnings.warn(_msg)\n"
     ]
    }
   ],
   "source": [
    "# Download the punkt tokenizer model data\n",
    "nltk.download('punkt')\n",
    "import pandas as pd\n",
    "from nltk.translate.bleu_score import sentence_bleu\n",
    "from nltk.tokenize import word_tokenize\n",
    "\n",
    "# Load Excel file\n",
    "excel_file_path = 'C:/Users/crown/Desktop/ISE/praktikum docu/train_8/train_result_mistral_withoutkg.xlsx'\n",
    "df = pd.read_excel(excel_file_path)\n",
    "\n",
    "# Prepare column to store BLEU scores\n",
    "df['BLEU'] = None\n",
    "\n",
    "# Iterate through each row to calculate BLEU scores\n",
    "for index, row in df.iterrows():\n",
    "    # Ensure Ground Truth and Predicted Answer are string types\n",
    "    ground_truth = str(row['Ground Truth']) if not pd.isnull(row['Ground Truth']) else \"\"\n",
    "    predicted_answer = str(row['answer_text']) if not pd.isnull(row['answer_text']) else \"\"\n",
    "    \n",
    "    # Skip the row if either field is empty\n",
    "    if ground_truth == \"\" or predicted_answer == \"\":\n",
    "        continue\n",
    "    \n",
    "    # Tokenize\n",
    "    reference = word_tokenize(ground_truth)\n",
    "    candidate = word_tokenize(predicted_answer)\n",
    "    \n",
    "    # Calculate BLEU score\n",
    "    bleu_score = sentence_bleu([reference], candidate)\n",
    "    \n",
    "    # Add the score to the DataFrame\n",
    "    df.at[index, 'BLEU'] = bleu_score\n",
    "\n",
    "# Save the DataFrame with BLEU scores to a new Excel file\n",
    "output_file_path = 'C:/Users/crown/Desktop/ISE/praktikum docu/train_8/train_result_mistral_withoutkg.xlsx'\n",
    "df.to_excel(output_file_path, index=False)\n"
   ]
  },
  {
   "cell_type": "markdown",
   "metadata": {
    "collapsed": false,
    "pycharm": {
     "name": "#%% md\n"
    }
   },
   "source": [
    "## SBERT-Similarty"
   ]
  },
  {
   "cell_type": "code",
   "execution_count": 4,
   "metadata": {
    "collapsed": false,
    "pycharm": {
     "name": "#%%\n"
    }
   },
   "outputs": [
    {
     "name": "stderr",
     "output_type": "stream",
     "text": [
      "C:\\Users\\crown\\AppData\\Roaming\\Python\\Python39\\site-packages\\torch\\_utils.py:831: UserWarning: TypedStorage is deprecated. It will be removed in the future and UntypedStorage will be the only storage class. This should only matter to you if you are using storages directly.  To access UntypedStorage directly, use tensor.untyped_storage() instead of tensor.storage()\n",
      "  return self.fget.__get__(instance, owner)()\n"
     ]
    }
   ],
   "source": [
    "# Load Excel file\n",
    "excel_file_path = 'C:/Users/crown/Desktop/ISE/praktikum docu/train_8/train_result_mistral_withoutkg.xlsx'\n",
    "df = pd.read_excel(excel_file_path)\n",
    "\n",
    "# Initialize SBERT model\n",
    "model = SentenceTransformer('all-MiniLM-L6-v2')\n",
    "\n",
    "# Prepare column to store SBERT similarity scores\n",
    "df['SBERT-Similarity'] = None\n",
    "\n",
    "# Iterate through each row to calculate SBERT similarity scores\n",
    "for index, row in df.iterrows():\n",
    "    # Ensure Ground Truth and Predicted Answer are string types\n",
    "    ground_truth = str(row['Ground Truth']) if not pd.isnull(row['Ground Truth']) else \"\"\n",
    "    predicted_answer = str(row['answer_text']) if not pd.isnull(row['answer_text']) else \"\"\n",
    "    \n",
    "    # Skip the row if either field is empty\n",
    "    if ground_truth == \"\" or predicted_answer == \"\":\n",
    "        continue\n",
    "    \n",
    "    # Calculate sentence embeddings\n",
    "    ground_truth_embedding = model.encode(ground_truth, convert_to_tensor=True)\n",
    "    predicted_answer_embedding = model.encode(predicted_answer, convert_to_tensor=True)\n",
    "    \n",
    "    # Calculate similarity score\n",
    "    similarity_score = util.pytorch_cos_sim(ground_truth_embedding, predicted_answer_embedding).item()\n",
    "    \n",
    "    # Add the score to the DataFrame\n",
    "    df.at[index, 'SBERT-Similarity'] = similarity_score\n",
    "\n",
    "# Save the DataFrame with SBERT similarity scores to a new Excel file\n",
    "output_file_path = 'C:/Users/crown/Desktop/ISE/praktikum docu/train_8/train_result_mistral_withoutkg.xlsx'\n",
    "df.to_excel(output_file_path, index=False)\n"
   ]
  },
  {
   "cell_type": "markdown",
   "metadata": {
    "collapsed": false,
    "pycharm": {
     "name": "#%% md\n"
    }
   },
   "source": [
    "## result"
   ]
  },
  {
   "cell_type": "code",
   "execution_count": 6,
   "metadata": {
    "collapsed": false,
    "pycharm": {
     "name": "#%%\n"
    }
   },
   "outputs": [
    {
     "data": {
      "image/png": "[encoded data removed]",
      "text/plain": [
       "<Figure size 1000x600 with 1 Axes>"
      ]
     },
     "metadata": {},
     "output_type": "display_data"
    }
   ],
   "source": [
    "import pandas as pd\n",
    "import matplotlib.pyplot as plt\n",
    "\n",
    "# Load Excel file\n",
    "output_file_path = 'C:/Users/crown/Desktop/ISE/praktikum docu/train_8/train_result_mistral_withoutkg.xlsx'\n",
    "df = pd.read_excel(output_file_path)\n",
    "\n",
    "# Specify the columns to calculate the mean\n",
    "columns_to_mean = [\n",
    "    'BLEU', 'SBERT-Similarity',\n",
    "    'ROUGE-1-f', 'ROUGE-1-p', 'ROUGE-1-r',\n",
    "    'ROUGE-2-f', 'ROUGE-2-p', 'ROUGE-2-r',\n",
    "    'ROUGE-L-f', 'ROUGE-L-p', 'ROUGE-L-r'\n",
    "]\n",
    "\n",
    "# Calculate means\n",
    "means = df[columns_to_mean].mean()\n",
    "\n",
    "# Visualization\n",
    "ax = means.plot(kind='bar', figsize=(10, 6), color='skyblue', fontsize=13)\n",
    "\n",
    "plt.title('Average Scores mistral without kg')\n",
    "plt.xlabel('Metric')\n",
    "plt.ylabel('Average Score')\n",
    "plt.xticks(rotation=45, ha='right')  # Rotate x-axis labels for readability\n",
    "plt.tight_layout()  # Adjust subplot parameters to give specified padding\n",
    "\n",
    "# Add values on top of each bar\n",
    "for i in ax.patches:\n",
    "    ax.text(i.get_x() + i.get_width() / 2, i.get_height(), f'{i.get_height():.2f}', ha='center', va='bottom')\n",
    "\n",
    "plt.show()\n"
   ]
  }
 ],
 "metadata": {
  "kernelspec": {
   "display_name": "aiss",
   "language": "python",
   "name": "python3"
  },
  "language_info": {
   "codemirror_mode": {
    "name": "ipython",
    "version": 3
   },
   "file_extension": ".py",
   "mimetype": "text/x-python",
   "name": "python",
   "nbconvert_exporter": "python",
   "pygments_lexer": "ipython3",
   "version": "3.9.15"
  }
 },
 "nbformat": 4,
 "nbformat_minor": 2
}
