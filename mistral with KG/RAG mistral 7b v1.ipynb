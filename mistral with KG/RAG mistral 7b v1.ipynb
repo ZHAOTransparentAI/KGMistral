{
 "cells": [
  {
   "cell_type": "markdown",
   "metadata": {
    "pycharm": {
     "name": "#%% md\n"
    }
   },
   "source": [
    "# RAG  based on mistral 7b"
   ]
  },
  {
   "cell_type": "markdown",
   "metadata": {
    "pycharm": {
     "name": "#%% md\n"
    }
   },
   "source": [
    "## Loading the model"
   ]
  },
  {
   "cell_type": "code",
   "execution_count": 1,
   "metadata": {
    "pycharm": {
     "name": "#%%\n"
    }
   },
   "outputs": [
    {
     "name": "stderr",
     "output_type": "stream",
     "text": [
      "  WARNING: The script isympy.exe is installed in 'C:\\Users\\crown\\AppData\\Roaming\\Python\\Python39\\Scripts' which is not on PATH.\n",
      "  Consider adding this directory to PATH or, if you prefer to suppress this warning, use --no-warn-script-location.\n",
      "  WARNING: The scripts convert-caffe2-to-onnx.exe, convert-onnx-to-caffe2.exe and torchrun.exe are installed in 'C:\\Users\\crown\\AppData\\Roaming\\Python\\Python39\\Scripts' which is not on PATH.\n",
      "  Consider adding this directory to PATH or, if you prefer to suppress this warning, use --no-warn-script-location.\n",
      "  WARNING: The script transformers-cli.exe is installed in 'C:\\Users\\crown\\AppData\\Roaming\\Python\\Python39\\Scripts' which is not on PATH.\n",
      "  Consider adding this directory to PATH or, if you prefer to suppress this warning, use --no-warn-script-location.\n"
     ]
    }
   ],
   "source": [
    "!pip install -q torch datasets\n",
    "!pip install -q accelerate==0.21.0 \\\n",
    "                peft==0.4.0 \\\n",
    "                bitsandbytes==0.43.1\\\n",
    "                transformers==4.40.1\\\n",
    "                bitsandbytes==0.22.2\n",
    "                trl==0.4.7"
   ]
  },
  {
   "cell_type": "code",
   "execution_count": 1,
   "metadata": {
    "pycharm": {
     "name": "#%%\n"
    }
   },
   "outputs": [],
   "source": [
    "import transformers\n",
    "import huggingface_hub\n",
    "import bitsandbytes"
   ]
  },
  {
   "cell_type": "code",
   "execution_count": 3,
   "metadata": {
    "pycharm": {
     "name": "#%%\n"
    }
   },
   "outputs": [],
   "source": [
    "from transformers import AutoModelForCausalLM, AutoTokenizer\n",
    "#################################################################\n",
    "# Tokenizer（pip install --user transformers==4.34.0）\n",
    "#################################################################\n",
    "model_name='mistralai/Mistral-7B-Instruct-v0.1'\n",
    "\n",
    "model_config = transformers.AutoConfig.from_pretrained(\n",
    "    model_name,\n",
    ")\n",
    "\n",
    "tokenizer = AutoTokenizer.from_pretrained(model_name, trust_remote_code=True)\n",
    "tokenizer.pad_token = tokenizer.eos_token\n",
    "tokenizer.padding_side = \"right\""
   ]
  },
  {
   "cell_type": "code",
   "execution_count": 4,
   "metadata": {
    "pycharm": {
     "name": "#%%\n"
    }
   },
   "outputs": [],
   "source": [
    "#################################################################\n",
    "# bitsandbytes parameters\n",
    "#################################################################\n",
    "\n",
    "# Activate 4-bit precision base model loading\n",
    "use_4bit = True\n",
    "\n",
    "# Compute dtype for 4-bit base models\n",
    "bnb_4bit_compute_dtype = \"float16\"\n",
    "\n",
    "# Quantization type (fp4 or nf4)\n",
    "bnb_4bit_quant_type = \"nf4\"\n",
    "\n",
    "# Activate nested quantization for 4-bit base models (double quantization)\n",
    "use_nested_quant = False"
   ]
  },
  {
   "cell_type": "code",
   "execution_count": 5,
   "metadata": {
    "pycharm": {
     "name": "#%%\n"
    }
   },
   "outputs": [
    {
     "name": "stdout",
     "output_type": "stream",
     "text": [
      "================================================================================\n",
      "Your GPU supports bfloat16: accelerate training with bf16=True\n",
      "================================================================================\n"
     ]
    }
   ],
   "source": [
    "from transformers import BitsAndBytesConfig\n",
    "import torch\n",
    "#################################################################\n",
    "# Set up quantization config\n",
    "#################################################################\n",
    "compute_dtype = getattr(torch, bnb_4bit_compute_dtype)\n",
    "\n",
    "bnb_config = BitsAndBytesConfig(\n",
    "    load_in_4bit=use_4bit,\n",
    "    bnb_4bit_quant_type=bnb_4bit_quant_type,\n",
    "    bnb_4bit_compute_dtype=compute_dtype,\n",
    "    bnb_4bit_use_double_quant=use_nested_quant,\n",
    ")\n",
    "\n",
    "# Check GPU compatibility with bfloat16\n",
    "if compute_dtype == torch.float16 and use_4bit:\n",
    "    major, _ = torch.cuda.get_device_capability()\n",
    "    if major >= 8:\n",
    "        print(\"=\" * 80)\n",
    "        print(\"Your GPU supports bfloat16: accelerate training with bf16=True\")\n",
    "        print(\"=\" * 80)"
   ]
  },
  {
   "cell_type": "code",
   "execution_count": 6,
   "metadata": {
    "pycharm": {
     "name": "#%%\n"
    }
   },
   "outputs": [
    {
     "name": "stdout",
     "output_type": "stream",
     "text": [
      "Torch version: 2.1.0+cu121\n",
      "Is CUDA enabled? True\n"
     ]
    }
   ],
   "source": [
    "import torch\n",
    "\n",
    "print(\"Torch version:\",torch.__version__)\n",
    "\n",
    "print(\"Is CUDA enabled?\",torch.cuda.is_available())"
   ]
  },
  {
   "cell_type": "code",
   "execution_count": 7,
   "metadata": {
    "pycharm": {
     "name": "#%%\n"
    }
   },
   "outputs": [
    {
     "name": "stderr",
     "output_type": "stream",
     "text": [
      "`low_cpu_mem_usage` was None, now set to True since model is quantized.\n"
     ]
    },
    {
     "data": {
      "application/vnd.jupyter.widget-view+json": {
       "model_id": "d9a04689f2714f608deb9d172e2e416c",
       "version_major": 2,
       "version_minor": 0
      },
      "text/plain": [
       "Loading checkpoint shards:   0%|          | 0/2 [00:00<?, ?it/s]"
      ]
     },
     "metadata": {},
     "output_type": "display_data"
    }
   ],
   "source": [
    "from transformers import AutoModelForCausalLM\n",
    "#################################################################\n",
    "# Load pre-trained config\n",
    "#################################################################\n",
    "model = AutoModelForCausalLM.from_pretrained(\n",
    "    model_name,\n",
    "    quantization_config=bnb_config,\n",
    ")\n"
   ]
  },
  {
   "cell_type": "markdown",
   "metadata": {
    "pycharm": {
     "name": "#%% md\n"
    }
   },
   "source": [
    "## RAG based on mistral"
   ]
  },
  {
   "cell_type": "markdown",
   "metadata": {
    "pycharm": {
     "name": "#%% md\n"
    }
   },
   "source": [
    "#### Create LLM Chain"
   ]
  },
  {
   "cell_type": "code",
   "execution_count": 8,
   "metadata": {
    "pycharm": {
     "name": "#%%\n"
    }
   },
   "outputs": [],
   "source": [
    "from langchain.llms import HuggingFacePipeline\n",
    "from langchain.prompts import PromptTemplate\n",
    "from langchain.embeddings.huggingface import HuggingFaceEmbeddings\n",
    "from langchain.chains import LLMChain\n",
    "import transformers\n",
    "text_generation_pipeline = transformers.pipeline(\n",
    "    model=model,\n",
    "    tokenizer=tokenizer,\n",
    "    task=\"text-generation\",\n",
    "    temperature=0.1,\n",
    "    repetition_penalty=1.2,\n",
    "    return_full_text=True,\n",
    "    max_new_tokens=700,\n",
    ")\n",
    "prompt_template = \"\"\"\n",
    "### [INST] \n",
    "Instruction: \n",
    "Extract and answer using key information from context. Ensure the response is concise, without duplicates, focusing solely on crucial details. \n",
    "             \n",
    "           \n",
    "\n",
    "### Example\n",
    "Context: The sun is a star in the center of our solar system.\n",
    "Question: What is the sun?\n",
    "Answer: A star at the center of the solar system.\n",
    "\n",
    "Context: Neil Armstrong was the first person to walk on the moon.\n",
    "Question: Who was the first person to walk on the moon?\n",
    "Answer: Neil Armstrong.\n",
    "\n",
    "\n",
    "\n",
    "### CONTEXT\n",
    "{context}\n",
    "\n",
    "### QUESTION:\n",
    "{question} \n",
    "\n",
    "[/INST]\n",
    " \"\"\"\n",
    "\n",
    "mistral_llm = HuggingFacePipeline(pipeline=text_generation_pipeline)\n",
    "\n",
    "# Create prompt from prompt template \n",
    "prompt = PromptTemplate(\n",
    "    input_variables=[\"context\", \"question\"],\n",
    "    template=prompt_template,\n",
    ")\n",
    "\n",
    "# Create llm chain \n",
    "llm_chain = LLMChain(llm=mistral_llm, prompt=prompt)"
   ]
  },
  {
   "cell_type": "code",
   "execution_count": 9,
   "metadata": {
    "pycharm": {
     "name": "#%%\n"
    }
   },
   "outputs": [
    {
     "name": "stderr",
     "output_type": "stream",
     "text": [
      "C:\\Users\\crown\\AppData\\Roaming\\Python\\Python39\\site-packages\\transformers\\generation\\configuration_utils.py:392: UserWarning: `do_sample` is set to `False`. However, `temperature` is set to `0.1` -- this flag is only used in sample-based generation modes. You should set `do_sample=True` or unset `temperature`.\n",
      "  warnings.warn(\n",
      "Setting `pad_token_id` to `eos_token_id`:2 for open-end generation.\n",
      "C:\\Users\\crown\\AppData\\Roaming\\Python\\Python39\\site-packages\\transformers\\generation\\configuration_utils.py:392: UserWarning: `do_sample` is set to `False`. However, `temperature` is set to `0.1` -- this flag is only used in sample-based generation modes. You should set `do_sample=True` or unset `temperature`.\n",
      "  warnings.warn(\n",
      "Setting `pad_token_id` to `eos_token_id`:2 for open-end generation.\n"
     ]
    },
    {
     "name": "stdout",
     "output_type": "stream",
     "text": [
      "行 1 的答案: {'context': 'Materials Design Ontology (MDO) has related Project Open Databases Integration for Materials Design (OPTIMADE); Materials Design Ontology (MDO) has documentation w3id.org/mdo/full/1.0/; Materials Design Ontology (MDO) has description \"MDO is an ontology for materials design field, representing the domain knowledge specifically related to solid-state physics and computational materials science.\"; Open Materials Database has description \"The Open Materials Database is a publicly available, searchable database for information on the properties of materials created by people who work in computational materials design research. \"; PD Dr. habil.  Thomas Hammerschmidt has expertise in computational materials science; Dr Sarath Menon has expertise in computational materials science; Calphy has discipline computational materials science; Melting temperature computational workflow has discipline computational materials science; Pyscal has discipline computational materials science; MinimumEnergyPoints has discipline computational materials science; Image based prediction of the heat conduction tensor has discipline computational materials science; Finite Element Analysis Program has discipline computational materials science; Vienna Ab initio Simulation Package has discipline computational materials science; CAmbridge Serial Total Energy Package has discipline computational materials science; Carr Parrinello Molecular Dynamics has discipline computational materials science; ABINIT has discipline computational materials science; BigDFT has discipline computational materials science; Parallel total energy has discipline computational materials science; JDTFx has discipline computational materials science; PARSEC has discipline computational materials science; CP2K has discipline computational materials science; GPAW has discipline computational materials science; S/PHI/nX has discipline computational materials science; Qbox First-Principles Molecular Dynamics has discipline computational materials science; DFTK.jl has discipline computational materials science; density of Montréal has discipline computational materials science; SIESTA has discipline computational materials science; CRYSTAL has discipline computational materials science; FHI-AIMS has discipline computational materials science; FPLO has discipline computational materials science; Open source package for Material eXplorer has discipline computational materials science; Elk has discipline computational materials science; exciting has discipline computational materials science; FLEUR has discipline computational materials science; WIEN2k has discipline computational materials science; Large-scale Atomic/Molecular Massively Parallel Simulator has discipline computational materials science; The ITAP Molecular Dynamics Program has discipline computational materials science; GROMACS has discipline computational materials science; MD++ has discipline computational materials science; Thermo-Calc has discipline computational materials science; OpenPhase has discipline computational materials science; Multiphysics Object Oriented Simulation Environment has discipline computational materials science; Abaqus has discipline computational materials science; FeniCS Project has discipline computational materials science; Dusseldorf Advanced Material Simulation Kit has discipline computational materials science; Automated interactive infrastructure and database for computational science has discipline computational materials science; SimStack has discipline computational materials science; Atomic Simulation Environment has discipline computational materials science; Quantum Espresso has discipline computational materials science; Pyiron has discipline computational materials science; Prof. Dr. Karsten  Durst has expertise in Computational Materials Science; Prof. Dr.-Ing. Stephan Wulfinghoff has expertise in Computational Materials Science; Christian Dorn has expertise in Computational Materials Science; Dr.-Ing Abril Azocar Guzman has expertise in Computational Materials Science; Prof. Dr.  Jörg Neugebauer has expertise in Computational Materials Science; pyscal_rdf has discipline Computational Materials Science; Elastic Constant Demo has discipline Computational Materials Science; Computational Material Sample Ontology has discipline Computational Materials Science; Elastic Constant Demo Data has discipline Computational Materials Science; TURBOMOLE has discipline Computational Material Science; Prof. Stefan Diebels has expertise in Computational materials science; PD Dr.  Franz  Roters has expertise in Computational materials science; EQ2PC has discipline Computational materials science', 'question': 'Who is working in the Computational Materials Science field?', 'text': '\\nThere are several individuals mentioned as having expertise in the Computational Materials Science field:\\n\\n* Prof. Dr. Karsten Durst\\n* Prof. Dr.-Ing. Stephan Wulfinghoff\\n* Christian Dorn\\n* Dr.-Ing Abril Azocar Guzman\\n* Prof. Dr. Jörg Neugebauer\\n* Prof. Stefan Diebels\\n* PD Dr. Franz Roters\\n* EQ2PC'}\n",
      "已处理 1 / 38 行\n"
     ]
    },
    {
     "name": "stderr",
     "output_type": "stream",
     "text": [
      "C:\\Users\\crown\\AppData\\Roaming\\Python\\Python39\\site-packages\\transformers\\generation\\configuration_utils.py:392: UserWarning: `do_sample` is set to `False`. However, `temperature` is set to `0.1` -- this flag is only used in sample-based generation modes. You should set `do_sample=True` or unset `temperature`.\n",
      "  warnings.warn(\n",
      "Setting `pad_token_id` to `eos_token_id`:2 for open-end generation.\n"
     ]
    },
    {
     "name": "stdout",
     "output_type": "stream",
     "text": [
      "行 2 的答案: {'context': 'Elemental Multiperspective Material Ontology (EMMO) has related Project EMMC-CSA (2016-2019); Elemental Multiperspective Material Ontology (EMMO) has related Project SimDOME (2019-2023); Elemental Multiperspective Material Ontology (EMMO) has related Project MarketPlace (2018-2022); Elemental Multiperspective Material Ontology (EMMO) has related Project VIMMP (2018-2021); Elemental Multiperspective Material Ontology (EMMO) has related Project OntoTrans (2020-2024); Elemental Multiperspective Material Ontology (EMMO) has related Project ReaxPro (2019-2023); Elemental Multiperspective Material Ontology (EMMO) has related Project OntoCommons (2020-2023); Elemental Multiperspective Material Ontology (EMMO) has related Project OYSTER (2017-2021); Elemental Multiperspective Material Ontology (EMMO) has related Project NanoMECommons (2021-2025); Elemental Multiperspective Material Ontology (EMMO) has related Project OpenModel (2021-2025); Elemental Multiperspective Material Ontology (EMMO) has description \"The Elemental Multiperspective Material Ontology (EMMO) is the result of a multidisciplinary effort within the EMMC, aimed at the development of a standard representational ontology framework based on current materials modelling and characterization knowledge.\"; Essential Source of Schemas and Examples (ESSE) has description \"JSON schemas and examples representing structural data, characteristic properties, modeling workflows and related data about materials standardizing the diverse landscape of information\"', 'question': 'What are the research projects associated to EMMO?', 'text': '\\nThe research projects associated with EMMO include:\\n\\n* Project EMMC-CSA (2016-2019)\\n* Project SimDOME (2019-2023)\\n* Project MarketPlace (2018-2022)\\n* Project VIMMP (2018-2021)\\n* Project OntoTrans (2020-2024)\\n* Project ReaxPro (2019-2023)\\n* Project OntoCommons (2020-2023)\\n* Project OYSTER (2017-2021)\\n* Project NanoMECommons (2021-2025)\\n* Project OpenModel (2021-2025)'}\n",
      "已处理 2 / 38 行\n"
     ]
    },
    {
     "name": "stderr",
     "output_type": "stream",
     "text": [
      "C:\\Users\\crown\\AppData\\Roaming\\Python\\Python39\\site-packages\\transformers\\generation\\configuration_utils.py:392: UserWarning: `do_sample` is set to `False`. However, `temperature` is set to `0.1` -- this flag is only used in sample-based generation modes. You should set `do_sample=True` or unset `temperature`.\n",
      "  warnings.warn(\n",
      "Setting `pad_token_id` to `eos_token_id`:2 for open-end generation.\n"
     ]
    },
    {
     "name": "stdout",
     "output_type": "stream",
     "text": [
      "行 3 的答案: {'context': 'datasets has contributor Fernández; datasets has contributor Prof. Felix Fritzen; datasets has contributor Oliver Weeger; datasets has contributor Frederik Larsson; datasets has description \"This dataset was used in the work \"Material modeling for parametric, anisotropic finite hyperelasticity based on machine learning with application in optimization of metamaterials\" by M. Fernández, F. Fritzen and O. Weeger\"; datasets has description \"This dataset was used in the work \"On-the-Fly Adaptivity for Nonlinear Twoscale Simulations Using Artificial Neural Networks and Reduced Order Modeling\" by F. Fritzen, M. Fernández,  and F. Larsson\"', 'question': 'Who are the contributors of the data \"datasets\"?', 'text': ' Contributors of the data \"datasets\": Fernández, Prof. Felix Fritzen, Oliver Weeger, Frederik Larsson'}\n",
      "已处理 3 / 38 行\n"
     ]
    },
    {
     "name": "stderr",
     "output_type": "stream",
     "text": [
      "C:\\Users\\crown\\AppData\\Roaming\\Python\\Python39\\site-packages\\transformers\\generation\\configuration_utils.py:392: UserWarning: `do_sample` is set to `False`. However, `temperature` is set to `0.1` -- this flag is only used in sample-based generation modes. You should set `do_sample=True` or unset `temperature`.\n",
      "  warnings.warn(\n",
      "Setting `pad_token_id` to `eos_token_id`:2 for open-end generation.\n"
     ]
    },
    {
     "name": "stdout",
     "output_type": "stream",
     "text": [
      "行 4 的答案: {'context': 'Thomas Pardoen has work package Institute of Mechanics; Thomas Pardoen has expertise in Institute of Mechanics; Thomas Pardoen has funding project  Institute of Mechanics; Thomas Pardoen related participant project is Institute of Mechanics; Thomas Pardoen has related Project Institute of Mechanics; Thomas Pardoen has discipline Institute of Mechanics; Thomas Pardoen has parent organisation  Institute of Mechanics; Thomas Pardoen has related task area Institute of Mechanics; Thomas Pardoen has documentation Institute of Mechanics; Thomas Pardoen has description Institute of Mechanics; Thomas Pardoen has  description Institute of Mechanics; Ebrahim Norouzi has work package FIZ Karlsruhe - Leibniz Institute for Information Infrastructure; Dr. Jörg Waitelonis has work package FIZ Karlsruhe - Leibniz Institute for Information Infrastructure; Dr.  Heike Fliegl has work package FIZ Karlsruhe - Leibniz Institute for Information Infrastructure; Prof. Dr. Harald Sack has work package FIZ Karlsruhe - Leibniz Institute for Information Infrastructure; Mirza Mohtashim Alam has expertise in Knowledge Graph Embedding; Mirza Mohtashim Alam has expertise in Machine Learning; Mirza Mohtashim Alam has expertise in NLP; Mirza Mohtashim Alam has expertise in Computer Science; Ebrahim Norouzi has expertise in FIZ Karlsruhe - Leibniz Institute for Information Infrastructure; Dr. Jörg Waitelonis has expertise in FIZ Karlsruhe - Leibniz Institute for Information Infrastructure; Dr.  Heike Fliegl has expertise in FIZ Karlsruhe - Leibniz Institute for Information Infrastructure; Prof. Dr. Harald Sack has expertise in FIZ Karlsruhe - Leibniz Institute for Information Infrastructure; Ebrahim Norouzi has funding project  FIZ Karlsruhe - Leibniz Institute for Information Infrastructure; Dr. Jörg Waitelonis has funding project  FIZ Karlsruhe - Leibniz Institute for Information Infrastructure; Dr.  Heike Fliegl has funding project  FIZ Karlsruhe - Leibniz Institute for Information Infrastructure; Prof. Dr. Harald Sack has funding project  FIZ Karlsruhe - Leibniz Institute for Information Infrastructure; Ebrahim Norouzi related participant project is FIZ Karlsruhe - Leibniz Institute for Information Infrastructure; Dr. Jörg Waitelonis related participant project is FIZ Karlsruhe - Leibniz Institute for Information Infrastructure; Dr.  Heike Fliegl related participant project is FIZ Karlsruhe - Leibniz Institute for Information Infrastructure; Prof. Dr. Harald Sack related participant project is FIZ Karlsruhe - Leibniz Institute for Information Infrastructure; Ebrahim Norouzi has related Project FIZ Karlsruhe - Leibniz Institute for Information Infrastructure; Dr. Jörg Waitelonis has related Project FIZ Karlsruhe - Leibniz Institute for Information Infrastructure; Dr.  Heike Fliegl has related Project FIZ Karlsruhe - Leibniz Institute for Information Infrastructure; Prof. Dr. Harald Sack has related Project FIZ Karlsruhe - Leibniz Institute for Information Infrastructure; Ebrahim Norouzi has discipline FIZ Karlsruhe - Leibniz Institute for Information Infrastructure; Dr. Jörg Waitelonis has discipline FIZ Karlsruhe - Leibniz Institute for Information Infrastructure; Dr.  Heike Fliegl has discipline FIZ Karlsruhe - Leibniz Institute for Information Infrastructure; Prof. Dr. Harald Sack has discipline FIZ Karlsruhe - Leibniz Institute for Information Infrastructure; Ebrahim Norouzi has parent organisation  FIZ Karlsruhe - Leibniz Institute for Information Infrastructure; Dr. Jörg Waitelonis has parent organisation  FIZ Karlsruhe - Leibniz Institute for Information Infrastructure; Dr.  Heike Fliegl has parent organisation  FIZ Karlsruhe - Leibniz Institute for Information Infrastructure; Prof. Dr. Harald Sack has parent organisation  FIZ Karlsruhe - Leibniz Institute for Information Infrastructure; Ebrahim Norouzi has related task area FIZ Karlsruhe - Leibniz Institute for Information Infrastructure; Dr. Jörg Waitelonis has related task area FIZ Karlsruhe - Leibniz Institute for Information Infrastructure; Dr.  Heike Fliegl has related task area FIZ Karlsruhe - Leibniz Institute for Information Infrastructure; Prof. Dr. Harald Sack has related task area FIZ Karlsruhe - Leibniz Institute for Information Infrastructure; Ebrahim Norouzi has documentation FIZ Karlsruhe - Leibniz Institute for Information Infrastructure; Dr. Jörg Waitelonis has documentation FIZ Karlsruhe - Leibniz Institute for Information Infrastructure; Dr.  Heike Fliegl has documentation FIZ Karlsruhe - Leibniz Institute for Information Infrastructure; Prof. Dr. Harald Sack has documentation FIZ Karlsruhe - Leibniz Institute for Information Infrastructure; Ebrahim Norouzi has description FIZ Karlsruhe - Leibniz Institute for Information Infrastructure; Dr. Jörg Waitelonis has description FIZ Karlsruhe - Leibniz Institute for Information Infrastructure; Dr.  Heike Fliegl has description FIZ Karlsruhe - Leibniz Institute for Information Infrastructure; Prof. Dr. Harald Sack has description FIZ Karlsruhe - Leibniz Institute for Information Infrastructure; Ebrahim Norouzi has  description FIZ Karlsruhe - Leibniz Institute for Information Infrastructure; Dr. Jörg Waitelonis has  description FIZ Karlsruhe - Leibniz Institute for Information Infrastructure; Dr.  Heike Fliegl has  description FIZ Karlsruhe - Leibniz Institute for Information Infrastructure; Prof. Dr. Harald Sack has  description FIZ Karlsruhe - Leibniz Institute for Information Infrastructure; Mirza Mohtashim Alam has work package FIZ Karlsruhe - Leibniz Institute for Information Infrastructure; Ebrahim Norouzi has expertise in Information Service Engineering; Ebrahim Norouzi has expertise in Materials Informatic; Mirza Mohtashim Alam has expertise in FIZ Karlsruhe - Leibniz Institute for Information Infrastructure; Mirza Mohtashim Alam has funding project  FIZ Karlsruhe - Leibniz Institute for Information Infrastructure; Mirza Mohtashim Alam related participant project is FIZ Karlsruhe - Leibniz Institute for Information Infrastructure; Mirza Mohtashim Alam has related Project FIZ Karlsruhe - Leibniz Institute for Information Infrastructure; Mirza Mohtashim Alam has discipline FIZ Karlsruhe - Leibniz Institute for Information Infrastructure; Mirza Mohtashim Alam has parent organisation  FIZ Karlsruhe - Leibniz Institute for Information Infrastructure; Mirza Mohtashim Alam has related task area FIZ Karlsruhe - Leibniz Institute for Information Infrastructure; Mirza Mohtashim Alam has documentation FIZ Karlsruhe - Leibniz Institute for Information Infrastructure; Mirza Mohtashim Alam has description FIZ Karlsruhe - Leibniz Institute for Information Infrastructure; Mirza Mohtashim Alam has  description FIZ Karlsruhe - Leibniz Institute for Information Infrastructure; Phonon database at Kyoto university has description \"It’s getting to be a mainstream idea collecting a big set of ab-initio calculations and analyzing them by informatics approach. For scientific purpose, we plan to do it for phonon properties. As an attempt, we have run a set of ab-initio phonon calculations and left the raw data on this static web site. The aim of this web site is just leaving the data to distribute.\"; PD Dr. Steffen Brinckmann has work package Forschungszentrum Jülich; Dr.  Volker Hofmann has work package Forschungszentrum Jülich; Dr.-Ing Abril Azocar Guzman has work package Forschungszentrum Jülich; Prof. Dr. Ruth Schwaiger has work package Forschungszentrum Jülich; Said Fathalla has work package Forschungszentrum Jülich; Dr.-Ing. Hanna Tsybenko has work package Forschungszentrum Jülich; Prof. Dr. Stefan Sandfeld has work package Forschungszentrum Jülich; Ahmad Zainul Ihsan has expertise in Materials Data Science and Informatics; PD Dr. Steffen Brinckmann has expertise in Forschungszentrum Jülich; Dr.  Volker Hofmann has expertise in Forschungszentrum Jülich; Dr.-Ing Abril Azocar Guzman has expertise in Forschungszentrum Jülich; Prof. Dr. Ruth Schwaiger has expertise in Forschungszentrum Jülich; Said Fathalla has expertise in Forschungszentrum Jülich; Dr.-Ing. Hanna Tsybenko has expertise in Forschungszentrum Jülich; Prof. Dr. Stefan Sandfeld has expertise in Forschungszentrum Jülich; PD Dr. Steffen Brinckmann has funding project  Forschungszentrum Jülich; Dr.  Volker Hofmann has funding project  Forschungszentrum Jülich; Dr.-Ing Abril Azocar Guzman has funding project  Forschungszentrum Jülich; Prof. Dr. Ruth Schwaiger has funding project  Forschungszentrum Jülich; Said Fathalla has funding project  Forschungszentrum Jülich; Dr.-Ing. Hanna Tsybenko has funding project  Forschungszentrum Jülich; Prof. Dr. Stefan Sandfeld has funding project  Forschungszentrum Jülich; PD Dr. Steffen Brinckmann related participant project is Forschungszentrum Jülich; Dr.  Volker Hofmann related participant project is Forschungszentrum Jülich; Dr.-Ing Abril Azocar Guzman related participant project is Forschungszentrum Jülich; Prof. Dr. Ruth Schwaiger related participant project is Forschungszentrum Jülich; Said Fathalla related participant project is Forschungszentrum Jülich; Dr.-Ing. Hanna Tsybenko related participant project is Forschungszentrum Jülich; Prof. Dr. Stefan Sandfeld related participant project is Forschungszentrum Jülich; PD Dr. Steffen Brinckmann has related Project Forschungszentrum Jülich; Dr.  Volker Hofmann has related Project Forschungszentrum Jülich; Dr.-Ing Abril Azocar Guzman has related Project Forschungszentrum Jülich; Prof. Dr. Ruth Schwaiger has related Project Forschungszentrum Jülich; Said Fathalla has related Project Forschungszentrum Jülich; Dr.-Ing. Hanna Tsybenko has related Project Forschungszentrum Jülich; Prof. Dr. Stefan Sandfeld has related Project Forschungszentrum Jülich; PD Dr. Steffen Brinckmann has discipline Forschungszentrum Jülich; Dr.  Volker Hofmann has discipline Forschungszentrum Jülich; Dr.-Ing Abril Azocar Guzman has discipline Forschungszentrum Jülich; Prof. Dr. Ruth Schwaiger has discipline Forschungszentrum Jülich; Said Fathalla has discipline Forschungszentrum Jülich; Dr.-Ing. Hanna Tsybenko has discipline Forschungszentrum Jülich; Prof. Dr. Stefan Sandfeld has discipline Forschungszentrum Jülich; PD Dr. Steffen Brinckmann has parent organisation  Forschungszentrum Jülich; Dr.  Volker Hofmann has parent organisation  Forschungszentrum Jülich; Dr.-Ing Abril Azocar Guzman has parent organisation  Forschungszentrum Jülich; Prof. Dr. Ruth Schwaiger has parent organisation  Forschungszentrum Jülich; Said Fathalla has parent organisation  Forschungszentrum Jülich; Dr.-Ing. Hanna Tsybenko has parent organisation  Forschungszentrum Jülich; Prof. Dr. Stefan Sandfeld has parent organisation  Forschungszentrum Jülich; PD Dr. Steffen Brinckmann has related task area Forschungszentrum Jülich; Dr.  Volker Hofmann has related task area Forschungszentrum Jülich; Dr.-Ing Abril Azocar Guzman has related task area Forschungszentrum Jülich; Prof. Dr. Ruth Schwaiger has related task area Forschungszentrum Jülich; Said Fathalla has related task area Forschungszentrum Jülich; Dr.-Ing. Hanna Tsybenko has related task area Forschungszentrum Jülich; Prof. Dr. Stefan Sandfeld has related task area Forschungszentrum Jülich; PD Dr. Steffen Brinckmann has documentation Forschungszentrum Jülich; Dr.  Volker Hofmann has documentation Forschungszentrum Jülich; Dr.-Ing Abril Azocar Guzman has documentation Forschungszentrum Jülich; Prof. Dr. Ruth Schwaiger has documentation Forschungszentrum Jülich; Said Fathalla has documentation Forschungszentrum Jülich; Dr.-Ing. Hanna Tsybenko has documentation Forschungszentrum Jülich; Prof. Dr. Stefan Sandfeld has documentation Forschungszentrum Jülich; PD Dr. Steffen Brinckmann has description Forschungszentrum Jülich; Dr.  Volker Hofmann has description Forschungszentrum Jülich; Dr.-Ing Abril Azocar Guzman has description Forschungszentrum Jülich; Prof. Dr. Ruth Schwaiger has description Forschungszentrum Jülich; Said Fathalla has description Forschungszentrum Jülich; Dr.-Ing. Hanna Tsybenko has description Forschungszentrum Jülich; Prof. Dr. Stefan Sandfeld has description Forschungszentrum Jülich; PD Dr. Steffen Brinckmann has  description Forschungszentrum Jülich; Dr.  Volker Hofmann has  description Forschungszentrum Jülich; Dr.-Ing Abril Azocar Guzman has  description Forschungszentrum Jülich; Prof. Dr. Ruth Schwaiger has  description Forschungszentrum Jülich; Said Fathalla has  description Forschungszentrum Jülich; Dr.-Ing. Hanna Tsybenko has  description Forschungszentrum Jülich; Prof. Dr. Stefan Sandfeld has  description Forschungszentrum Jülich', 'question': 'Who is working with Researcher \"Ebrahim Norouzi\" in the same group?', 'text': '\\n\\n\\n\\n\\n\\n\\n\\n\\n\\n\\n\\n\\n\\n\\n\\n\\n\\n\\n\\n\\n\\n\\n\\n\\n\\n\\n\\n\\n\\n\\n\\n\\n\\n\\n\\n\\n\\n\\n\\n\\n\\n\\n\\n\\n\\n\\n\\n\\n\\n\\n\\n\\n\\n\\n\\n\\n\\n\\n\\n\\n\\n\\n\\n\\n\\n\\n\\n\\n\\n\\n\\n\\n\\n\\n\\n\\n\\n\\n\\n\\n\\n\\n\\n\\n\\n\\n\\n\\n\\n\\n\\n\\n\\n\\n\\n\\n\\n\\n\\n\\n\\n\\n\\n\\n\\n\\n\\n\\n\\n\\n\\n\\n\\n\\n\\n\\n\\n\\n\\n\\n\\n\\n\\n\\n\\n\\n\\n\\n\\n\\n\\n\\n\\n\\n\\n\\n\\n\\n\\n\\n\\n\\n\\n\\n\\n\\n\\n\\n\\n\\n\\n\\n\\n\\n\\n\\n\\n\\n\\n\\n\\n\\n\\n\\n\\n\\n\\n\\n\\n\\n\\n\\n\\n\\n\\n\\n\\n\\n\\n\\n\\n\\n\\n\\n\\n\\n\\n\\n\\n\\n\\n\\n\\n\\n\\n\\n\\n\\n\\n\\n\\n\\n\\n\\n\\n\\n\\n\\n\\n\\n\\n\\n\\n\\n\\n\\n\\n\\n\\n\\n\\n\\n\\n\\n\\n\\n\\n\\n\\n\\n\\n\\n\\n\\n\\n\\n\\n\\n\\n\\n\\n\\n\\n\\n\\n\\n\\n\\n\\n\\n\\n\\n\\n\\n\\n\\n\\n\\n\\n\\n\\n\\n\\n\\n\\n\\n\\n\\n\\n\\n\\n\\n\\n\\n\\n\\n\\n\\n\\n\\n\\n\\n\\n\\n\\n\\n\\n\\n\\n\\n\\n\\n\\n\\n\\n\\n\\n\\n\\n\\n\\n\\n\\n\\n\\n\\n\\n\\n\\n\\n\\n\\n\\n\\n\\n\\n\\n\\n\\n\\n\\n\\n\\n\\n\\n\\n\\n\\n\\n\\n\\n\\n\\n\\n\\n\\n\\n\\n\\n\\n\\n\\n\\n\\n\\n\\n\\n\\n\\n\\n\\n\\n\\n\\n\\n\\n\\n\\n\\n\\n\\n\\n\\n\\n\\n\\n\\n\\n\\n\\n\\n\\n\\n\\n\\n\\n\\n\\n\\n\\n\\n\\n\\n\\n\\n\\n\\n\\n\\n\\n\\n\\n\\n\\n\\n\\n\\n\\n\\n\\n\\n\\n\\n\\n\\n\\n\\n\\n\\n\\n\\n\\n\\n\\n\\n\\n\\n\\n\\n\\n\\n\\n\\n\\n\\n\\n\\n\\n\\n\\n\\n\\n\\n\\n\\n\\n\\n\\n\\n\\n\\n\\n\\n\\n\\n\\n\\n\\n\\n\\n\\n\\n\\n\\n\\n\\n\\n\\n\\n\\n\\n\\n\\n\\n\\n\\n\\n\\n\\n\\n\\n\\n\\n\\n\\n\\n\\n\\n\\n\\n\\n\\n\\n\\n\\n\\n\\n\\n\\n\\n\\n\\n\\n\\n\\n\\n\\n\\n\\n\\n\\n\\n\\n\\n\\n\\n\\n\\n\\n\\n\\n\\n\\n\\n\\n\\n\\n\\n\\n\\n\\n\\n\\n\\n\\n\\n\\n\\n\\n\\n\\n\\n\\n\\n\\n\\n\\n\\n\\n\\n\\n\\n\\n\\n\\n\\n\\n\\n\\n\\n\\n\\n\\n\\n\\n\\n\\n\\n\\n\\n\\n\\n\\n\\n\\n\\n\\n\\n\\n\\n\\n\\n\\n\\n\\n\\n\\n\\n\\n\\n\\n\\n\\n\\n\\n\\n\\n\\n\\n\\n\\n\\n\\n\\n\\n\\n\\n\\n\\n\\n\\n\\n\\n\\n\\n\\n\\n\\n\\n\\n\\n\\n\\n\\n\\n\\n\\n\\n\\n\\n\\n\\n\\n\\n\\n\\n\\n\\n\\n\\n\\n\\n\\n\\n\\n\\n\\n\\n\\n\\n\\n\\n\\n\\n\\n\\n\\n\\n\\n\\n\\n\\n\\n\\n\\n\\n\\n\\n\\n\\n\\n\\n\\n\\n\\n\\n\\n\\n\\n\\n\\n\\n\\n\\n\\n\\n\\n\\n\\n\\n\\n\\n\\n\\n\\n\\n\\n\\n\\n\\n\\n\\n\\n\\n\\n\\n\\n\\n\\n'}\n",
      "已处理 4 / 38 行\n"
     ]
    },
    {
     "name": "stderr",
     "output_type": "stream",
     "text": [
      "C:\\Users\\crown\\AppData\\Roaming\\Python\\Python39\\site-packages\\transformers\\generation\\configuration_utils.py:392: UserWarning: `do_sample` is set to `False`. However, `temperature` is set to `0.1` -- this flag is only used in sample-based generation modes. You should set `do_sample=True` or unset `temperature`.\n",
      "  warnings.warn(\n",
      "Setting `pad_token_id` to `eos_token_id`:2 for open-end generation.\n"
     ]
    },
    {
     "name": "stdout",
     "output_type": "stream",
     "text": [
      "行 5 的答案: {'context': 'data portal has comment \"An online platform that provides access to data collections and datasets.\"; ParaView has website https://www.paraview.org/; ParaView has contact point support@kitware.com; ParaView has repository https://gitlab.kitware.com/paraview/paraview; ParaView has  description \"ParaView is an open-source, multi-platform data analysis and visualization application based on Visualization Toolkit (VTK).\"; dateCreated has comment \"The date on which the CreativeWork was created or the item was added to a DataFeed.\"; dateCreated has domain resource; dataset has comment \"A dataset is associated with a structured information about a resource.\"; about material has domain dataset; has creator has domain dataset', 'question': 'who is the email address of \"ParaView\"?', 'text': \" ParaView's email address is not provided in the given context.\"}\n",
      "已处理 5 / 38 行\n"
     ]
    },
    {
     "name": "stderr",
     "output_type": "stream",
     "text": [
      "C:\\Users\\crown\\AppData\\Roaming\\Python\\Python39\\site-packages\\transformers\\generation\\configuration_utils.py:392: UserWarning: `do_sample` is set to `False`. However, `temperature` is set to `0.1` -- this flag is only used in sample-based generation modes. You should set `do_sample=True` or unset `temperature`.\n",
      "  warnings.warn(\n",
      "Setting `pad_token_id` to `eos_token_id`:2 for open-end generation.\n"
     ]
    },
    {
     "name": "stdout",
     "output_type": "stream",
     "text": [
      "行 6 的答案: {'context': 'Dr.  Volker Hofmann has affiliation with Forschungszentrum Jülich; PD Dr. Steffen Brinckmann has affiliation with Forschungszentrum Jülich; Dr.-Ing Abril Azocar Guzman has affiliation with Forschungszentrum Jülich; Prof. Dr. Ruth Schwaiger has affiliation with Forschungszentrum Jülich; Said Fathalla has affiliation with Forschungszentrum Jülich; Ahmad Zainul Ihsan has affiliation with Forschungszentrum Jülich; Dr.-Ing. Hanna Tsybenko has affiliation with Forschungszentrum Jülich; Prof. Dr. Stefan Sandfeld has affiliation with Forschungszentrum Jülich; PD Dr. Steffen Brinckmann has curation status Forschungszentrum Jülich; Dr.-Ing Abril Azocar Guzman has curation status Forschungszentrum Jülich; Prof. Dr. Ruth Schwaiger has curation status Forschungszentrum Jülich; Said Fathalla has curation status Forschungszentrum Jülich; Ahmad Zainul Ihsan has curation status Forschungszentrum Jülich; Dr.-Ing. Hanna Tsybenko has curation status Forschungszentrum Jülich; Prof. Dr. Stefan Sandfeld has curation status Forschungszentrum Jülich; PD Dr. Steffen Brinckmann has parent organisation  Forschungszentrum Jülich; Dr.-Ing Abril Azocar Guzman has parent organisation  Forschungszentrum Jülich; Prof. Dr. Ruth Schwaiger has parent organisation  Forschungszentrum Jülich; Said Fathalla has parent organisation  Forschungszentrum Jülich; Ahmad Zainul Ihsan has parent organisation  Forschungszentrum Jülich; Dr.-Ing. Hanna Tsybenko has parent organisation  Forschungszentrum Jülich; Prof. Dr. Stefan Sandfeld has parent organisation  Forschungszentrum Jülich; PD Dr. Steffen Brinckmann has citation Forschungszentrum Jülich; Dr.-Ing Abril Azocar Guzman has citation Forschungszentrum Jülich; Prof. Dr. Ruth Schwaiger has citation Forschungszentrum Jülich; Said Fathalla has citation Forschungszentrum Jülich; Ahmad Zainul Ihsan has citation Forschungszentrum Jülich; Dr.-Ing. Hanna Tsybenko has citation Forschungszentrum Jülich; Prof. Dr. Stefan Sandfeld has citation Forschungszentrum Jülich; PD Dr. Steffen Brinckmann has documentation Forschungszentrum Jülich; Dr.-Ing Abril Azocar Guzman has documentation Forschungszentrum Jülich; Prof. Dr. Ruth Schwaiger has documentation Forschungszentrum Jülich; Said Fathalla has documentation Forschungszentrum Jülich; Ahmad Zainul Ihsan has documentation Forschungszentrum Jülich; Dr.-Ing. Hanna Tsybenko has documentation Forschungszentrum Jülich; Prof. Dr. Stefan Sandfeld has documentation Forschungszentrum Jülich; PD Dr. Steffen Brinckmann related participant project is Forschungszentrum Jülich; Dr.-Ing Abril Azocar Guzman related participant project is Forschungszentrum Jülich; Prof. Dr. Ruth Schwaiger related participant project is Forschungszentrum Jülich; Said Fathalla related participant project is Forschungszentrum Jülich; Ahmad Zainul Ihsan related participant project is Forschungszentrum Jülich; Dr.-Ing. Hanna Tsybenko related participant project is Forschungszentrum Jülich; Prof. Dr. Stefan Sandfeld related participant project is Forschungszentrum Jülich; PD Dr. Steffen Brinckmann has elucidation Forschungszentrum Jülich; Dr.-Ing Abril Azocar Guzman has elucidation Forschungszentrum Jülich; Prof. Dr. Ruth Schwaiger has elucidation Forschungszentrum Jülich; Said Fathalla has elucidation Forschungszentrum Jülich; Ahmad Zainul Ihsan has elucidation Forschungszentrum Jülich; Dr.-Ing. Hanna Tsybenko has elucidation Forschungszentrum Jülich; Prof. Dr. Stefan Sandfeld has elucidation Forschungszentrum Jülich; PD Dr. Steffen Brinckmann has definition Forschungszentrum Jülich; Dr.-Ing Abril Azocar Guzman has definition Forschungszentrum Jülich; Prof. Dr. Ruth Schwaiger has definition Forschungszentrum Jülich; Said Fathalla has definition Forschungszentrum Jülich; Ahmad Zainul Ihsan has definition Forschungszentrum Jülich; Dr.-Ing. Hanna Tsybenko has definition Forschungszentrum Jülich; Prof. Dr. Stefan Sandfeld has definition Forschungszentrum Jülich; PD Dr. Steffen Brinckmann has definition Forschungszentrum Jülich; Dr.-Ing Abril Azocar Guzman has definition Forschungszentrum Jülich; Prof. Dr. Ruth Schwaiger has definition Forschungszentrum Jülich; Said Fathalla has definition Forschungszentrum Jülich; Ahmad Zainul Ihsan has definition Forschungszentrum Jülich; Dr.-Ing. Hanna Tsybenko has definition Forschungszentrum Jülich; Prof. Dr. Stefan Sandfeld has definition Forschungszentrum Jülich; PD Dr. Steffen Brinckmann has description Forschungszentrum Jülich; Dr.-Ing Abril Azocar Guzman has description Forschungszentrum Jülich; Prof. Dr. Ruth Schwaiger has description Forschungszentrum Jülich; Said Fathalla has description Forschungszentrum Jülich; Ahmad Zainul Ihsan has description Forschungszentrum Jülich; Dr.-Ing. Hanna Tsybenko has description Forschungszentrum Jülich; Prof. Dr. Stefan Sandfeld has description Forschungszentrum Jülich; PD Dr. Steffen Brinckmann has  description Forschungszentrum Jülich; Dr.-Ing Abril Azocar Guzman has  description Forschungszentrum Jülich; Prof. Dr. Ruth Schwaiger has  description Forschungszentrum Jülich; Said Fathalla has  description Forschungszentrum Jülich; Ahmad Zainul Ihsan has  description Forschungszentrum Jülich; Dr.-Ing. Hanna Tsybenko has  description Forschungszentrum Jülich; Prof. Dr. Stefan Sandfeld has  description Forschungszentrum Jülich; Niklas Siemer has affiliation with Max-Planck-Institut für Eisenforschung GmbH; Prof. Dr.  Jörg Neugebauer has affiliation with Max-Planck-Institut für Eisenforschung GmbH; Prof. Dr.  Jörg Neugebauer has curation status Max-Planck-Institut für Eisenforschung GmbH; Prof. Dr.  Jörg Neugebauer has parent organisation  Max-Planck-Institut für Eisenforschung GmbH; Prof. Dr.  Jörg Neugebauer has citation Max-Planck-Institut für Eisenforschung GmbH; Prof. Dr.  Jörg Neugebauer has documentation Max-Planck-Institut für Eisenforschung GmbH; Prof. Dr.  Jörg Neugebauer related participant project is Max-Planck-Institut für Eisenforschung GmbH; Prof. Dr.  Jörg Neugebauer has elucidation Max-Planck-Institut für Eisenforschung GmbH; Prof. Dr.  Jörg Neugebauer has definition Max-Planck-Institut für Eisenforschung GmbH; Prof. Dr.  Jörg Neugebauer has definition Max-Planck-Institut für Eisenforschung GmbH; Prof. Dr.  Jörg Neugebauer has description Max-Planck-Institut für Eisenforschung GmbH; Prof. Dr.  Jörg Neugebauer has  description Max-Planck-Institut für Eisenforschung GmbH; Dr. Tilmann Hickel has affiliation with Max-Planck-Institut für Eisenforschung; Dr. Tilmann Hickel has affiliation with Bundesanstalt für Materialforschung und -prüfung; PD Dr.  Franz  Roters has affiliation with Max-Planck-Institut für Eisenforschung; Prof. Dr. Erik Bitzek has affiliation with Max-Planck-Institut für Eisenforschung; Prof. Dr.  Jörg Neugebauer has affiliation with Max-Planck-Institut für Eisenforschung; Dr Sarath Menon has affiliation with Max-Planck-Institut für Eisenforschung; PD Dr.  Franz  Roters has curation status Max-Planck-Institut für Eisenforschung; Prof. Dr. Erik Bitzek has curation status Max-Planck-Institut für Eisenforschung; Prof. Dr.  Jörg Neugebauer has curation status Max-Planck-Institut für Eisenforschung; Dr Sarath Menon has curation status Max-Planck-Institut für Eisenforschung; PD Dr.  Franz  Roters has parent organisation  Max-Planck-Institut für Eisenforschung; Prof. Dr. Erik Bitzek has parent organisation  Max-Planck-Institut für Eisenforschung; Prof. Dr.  Jörg Neugebauer has parent organisation  Max-Planck-Institut für Eisenforschung; Dr Sarath Menon has parent organisation  Max-Planck-Institut für Eisenforschung; PD Dr.  Franz  Roters has citation Max-Planck-Institut für Eisenforschung; Prof. Dr. Erik Bitzek has citation Max-Planck-Institut für Eisenforschung; Prof. Dr.  Jörg Neugebauer has citation Max-Planck-Institut für Eisenforschung; Dr Sarath Menon has citation Max-Planck-Institut für Eisenforschung; PD Dr.  Franz  Roters has documentation Max-Planck-Institut für Eisenforschung; Prof. Dr. Erik Bitzek has documentation Max-Planck-Institut für Eisenforschung; Prof. Dr.  Jörg Neugebauer has documentation Max-Planck-Institut für Eisenforschung; Dr Sarath Menon has documentation Max-Planck-Institut für Eisenforschung; PD Dr.  Franz  Roters related participant project is Max-Planck-Institut für Eisenforschung; Prof. Dr. Erik Bitzek related participant project is Max-Planck-Institut für Eisenforschung; Prof. Dr.  Jörg Neugebauer related participant project is Max-Planck-Institut für Eisenforschung; Dr Sarath Menon related participant project is Max-Planck-Institut für Eisenforschung; PD Dr.  Franz  Roters has elucidation Max-Planck-Institut für Eisenforschung; Prof. Dr. Erik Bitzek has elucidation Max-Planck-Institut für Eisenforschung; Prof. Dr.  Jörg Neugebauer has elucidation Max-Planck-Institut für Eisenforschung; Dr Sarath Menon has elucidation Max-Planck-Institut für Eisenforschung; PD Dr.  Franz  Roters has definition Max-Planck-Institut für Eisenforschung; Prof. Dr. Erik Bitzek has definition Max-Planck-Institut für Eisenforschung; Prof. Dr.  Jörg Neugebauer has definition Max-Planck-Institut für Eisenforschung; Dr Sarath Menon has definition Max-Planck-Institut für Eisenforschung; PD Dr.  Franz  Roters has definition Max-Planck-Institut für Eisenforschung; Prof. Dr. Erik Bitzek has definition Max-Planck-Institut für Eisenforschung; Prof. Dr.  Jörg Neugebauer has definition Max-Planck-Institut für Eisenforschung; Dr Sarath Menon has definition Max-Planck-Institut für Eisenforschung; PD Dr.  Franz  Roters has description Max-Planck-Institut für Eisenforschung; Prof. Dr. Erik Bitzek has description Max-Planck-Institut für Eisenforschung; Prof. Dr.  Jörg Neugebauer has description Max-Planck-Institut für Eisenforschung; Dr Sarath Menon has description Max-Planck-Institut für Eisenforschung; PD Dr.  Franz  Roters has  description Max-Planck-Institut für Eisenforschung; Prof. Dr. Erik Bitzek has  description Max-Planck-Institut für Eisenforschung; Prof. Dr.  Jörg Neugebauer has  description Max-Planck-Institut für Eisenforschung; Dr Sarath Menon has  description Max-Planck-Institut für Eisenforschung', 'question': 'What are the affilliations of Volker Hofmann?', 'text': '\\nVolker Hofmann has an affiliation with Forschungszentrum Jülich.'}\n",
      "已处理 6 / 38 行\n"
     ]
    },
    {
     "name": "stderr",
     "output_type": "stream",
     "text": [
      "C:\\Users\\crown\\AppData\\Roaming\\Python\\Python39\\site-packages\\transformers\\generation\\configuration_utils.py:392: UserWarning: `do_sample` is set to `False`. However, `temperature` is set to `0.1` -- this flag is only used in sample-based generation modes. You should set `do_sample=True` or unset `temperature`.\n",
      "  warnings.warn(\n",
      "Setting `pad_token_id` to `eos_token_id`:2 for open-end generation.\n"
     ]
    },
    {
     "name": "stdout",
     "output_type": "stream",
     "text": [
      "行 7 的答案: {'context': 'PubChem has citation Kim S. Exploring Chemical Information in PubChem. Curr. Protoc.; 2021 Aug 9; 1(8):e217. doi: https://doi.org/10.1002/cpz1.217.; PubChem has description \"PubChem is the world\\'s largest collection of freely accessible chemical information. Search chemicals by name, molecular formula, structure, and other identifiers. Find chemical and physical properties, biological activities, safety and toxicity information, patents, literature citations and more.\"; Computational Materials Repository (CMR) has related resource ASE; Computational Materials Repository (CMR) has description \"Each CMR project consists of an ASE-database and a project page describing the data and showing examples of how to work with the data using Python and ASE.\"; Visual Molecular Dynamics has documentation https://www.ks.uiuc.edu/Research/vmd/current/ug/; Visual Molecular Dynamics has  description \"molecular modelling and visualization computer program\"', 'question': 'What is \"Molecular Dynamics\" Software? List the programming language, documentation page, repository, and license information.', 'text': \"\\nMolecular Dynamics software refers to computational tools used for simulating the motion of atoms and molecules over time based on classical mechanics. It involves solving Newton's equations of motion iteratively to predict the future positions and velocities of particles in a system.\\n\\nThe provided context mentions three specific software or resources related to Molecular Dynamics:\\n\\n1. **Programming Language:** Not explicitly stated. However, it is likely that the software uses common languages like Python, which are widely used in scientific computing and have libraries specifically designed for molecular dynamics simulations such as GROMACS, CHARMM, and AMBER.\\n2. **Documentation Page:** Visual Molecular Dynamics provides documentation at <https://www.ks.uiuc.edu/Research/vmd/>. This website offers tutorials, user guides, and example scripts for various applications of VMD, including molecular modeling and visualization.\\n3. **Repository:** Computational Materials Repository (CMR) hosts a project related to Molecular Dynamics called ASE. Each CMR project includes an ASE database and a project page providing instructions on working with the data using Python and ASE. While not directly related to software, this resource can be useful for accessing precomputed molecular dynamics trajectories and potential energy surfaces.\"}\n",
      "已处理 7 / 38 行\n"
     ]
    },
    {
     "name": "stderr",
     "output_type": "stream",
     "text": [
      "C:\\Users\\crown\\AppData\\Roaming\\Python\\Python39\\site-packages\\transformers\\generation\\configuration_utils.py:392: UserWarning: `do_sample` is set to `False`. However, `temperature` is set to `0.1` -- this flag is only used in sample-based generation modes. You should set `do_sample=True` or unset `temperature`.\n",
      "  warnings.warn(\n",
      "Setting `pad_token_id` to `eos_token_id`:2 for open-end generation.\n"
     ]
    },
    {
     "name": "stdout",
     "output_type": "stream",
     "text": [
      "行 8 的答案: {'context': 'OVITO basic has documentation https://www.ovito.org/docs/current/; OVITO basic has operating system  Linux; OVITO basic has operating system  Mac OS; OVITO basic has operating system  Microsoft Windows; OVITO basic has  description \"visualization and analysis for data generated in MD, atomistic Monte-Carlo and other particle-based simulations\"; Crystallography Open Database (COD) has description \"Open-access collection of crystal structures of organic, inorganic, metal-organic compounds and minerals, excluding biopolymers.\"; AML has  description \"Python package to automatically build the reference set for the training of Neural Network Potentials (NNPs), and eventually other machine-learned potentials, in an automated, data-driven fashion.\"', 'question': 'What are pre- and post-processing tools for MD simulations?', 'text': ' Pre-processing tools for MD simulations include OVITO basic, which has descriptions such as visualization and analysis for data generated in MD, atomistic Monte-Carlo and other particle-based simulations. Post-processing tools for MD simulations include Crystallography Open Database (COD), which has a description of being an open-access collection of crystal structures of organic, inorganic, metal-organic compounds and minerals, excluding biopolymers. Additionally, there is also AML, which is a Python package that automates building the reference set for training Neural Network Potentials (NNPs).'}\n",
      "已处理 8 / 38 行\n"
     ]
    },
    {
     "name": "stderr",
     "output_type": "stream",
     "text": [
      "C:\\Users\\crown\\AppData\\Roaming\\Python\\Python39\\site-packages\\transformers\\generation\\configuration_utils.py:392: UserWarning: `do_sample` is set to `False`. However, `temperature` is set to `0.1` -- this flag is only used in sample-based generation modes. You should set `do_sample=True` or unset `temperature`.\n",
      "  warnings.warn(\n",
      "Setting `pad_token_id` to `eos_token_id`:2 for open-end generation.\n"
     ]
    },
    {
     "name": "stdout",
     "output_type": "stream",
     "text": [
      "行 9 的答案: {'context': 'Simmate has  description \"The Simulated Materials Ecosystem (Simmate) is a toolbox and framework for computational materials research. It lets you explore various crystal databases, predict new materials, and quickly calculate properties.\"; matminer has  description \"Python library for data mining the properties of materials.\"', 'question': 'What are some workflow environments for computational materials science?', 'text': '1. Simulate Materials Ecosystem (Simmate): This is a toolbox and framework that allows researchers to explore various crystal databases, predict new materials, and quickly calculate properties.\\n2. Python library for data mining the properties of materials (matminer): This is another environment specifically designed for data mining the properties of materials.'}\n",
      "已处理 9 / 38 行\n"
     ]
    },
    {
     "name": "stderr",
     "output_type": "stream",
     "text": [
      "C:\\Users\\crown\\AppData\\Roaming\\Python\\Python39\\site-packages\\transformers\\pipelines\\base.py:1123: UserWarning: You seem to be using the pipelines sequentially on GPU. In order to maximize efficiency please use a dataset\n",
      "  warnings.warn(\n",
      "C:\\Users\\crown\\AppData\\Roaming\\Python\\Python39\\site-packages\\transformers\\generation\\configuration_utils.py:392: UserWarning: `do_sample` is set to `False`. However, `temperature` is set to `0.1` -- this flag is only used in sample-based generation modes. You should set `do_sample=True` or unset `temperature`.\n",
      "  warnings.warn(\n",
      "Setting `pad_token_id` to `eos_token_id`:2 for open-end generation.\n"
     ]
    },
    {
     "name": "stdout",
     "output_type": "stream",
     "text": [
      "行 10 的答案: {'context': 'Pyiron has  description \"pyiron is an integrated development environment for implementing, testing, and running simulations in computational materials science.\"; Pyiron has citation title = {pyiron: An integrated development environment for computational materials science},_x000D_\\n  journal = {Computational Materials Science},_x000D_\\n  volume = {163},_x000D_\\n  pages = {24 - 36},_x000D_\\n  year = {2019},_x000D_\\n  issn = {0927-0256},_x000D_\\n  doi = {https://doi.org/10.1016/j.commatsci.2018.07.043},_x000D_\\n  url = {http://www.sciencedirect.com/science/article/pii/S0927025618304786},_x000D_\\n  author = {Jan Janssen and Sudarsan Surendralal and Yury Lysogorskiy and Mira Todorova and Tilmann Hickel and Ralf Drautz and Jörg Neugebauer},_x000D_\\n  keywords = {Modelling workflow, Integrated development environment, Complex simulation protocols},; Pyrho has  description \"Pyrho is a real-space DFT code written in Python. It is not built to be super-fast or scalable- instead, it is built to be super-readable.  There\\'s a tutorial notebook (tutorial.ipynb) to guide you through the process of building Pyrho from scratch (starting with the 1D Schroedinger equation). This notebook is based on interactive lectures given by Prof. Joerg Neugebauer.\"', 'question': 'How should I cite pyiron?', 'text': ' Citation: Janssen, Jan, et al. \"pyiron: An integrated development environment for computational materials science.\" Computational Materials Science, vol. 163, no. 24-36, 2019, doi:<https://doi.org/10.1016/j.commatsci.2018.07.043>.'}\n",
      "已处理 10 / 38 行\n"
     ]
    },
    {
     "name": "stderr",
     "output_type": "stream",
     "text": [
      "C:\\Users\\crown\\AppData\\Roaming\\Python\\Python39\\site-packages\\transformers\\pipelines\\base.py:1123: UserWarning: You seem to be using the pipelines sequentially on GPU. In order to maximize efficiency please use a dataset\n",
      "  warnings.warn(\n",
      "C:\\Users\\crown\\AppData\\Roaming\\Python\\Python39\\site-packages\\transformers\\generation\\configuration_utils.py:392: UserWarning: `do_sample` is set to `False`. However, `temperature` is set to `0.1` -- this flag is only used in sample-based generation modes. You should set `do_sample=True` or unset `temperature`.\n",
      "  warnings.warn(\n",
      "Setting `pad_token_id` to `eos_token_id`:2 for open-end generation.\n"
     ]
    },
    {
     "name": "stdout",
     "output_type": "stream",
     "text": [
      "行 11 的答案: {'context': 'Image based prediction of the heat conduction tensor has  description \"An open-source code providing a graphical user interface to predict the effective heat conductivity of microstructures and requires only the image data as input. The deployed methods are proposed and validated in the related paper, doi: 10.3390/mca24020057.\"; Image based prediction of the heat conduction tensor has citation Data-Driven Microstructure Property Relations; Workshop: Workflows for atomistic simulations has description \"Workshop lectures and videos from fitting of interatomic potentials to validating them.\"', 'question': 'Where can I find a list of interatomic potentials?', 'text': '\\nThe provided context does not mention any specific location or source where you can find a list of interatomic potentials.'}\n",
      "已处理 11 / 38 行\n"
     ]
    },
    {
     "name": "stderr",
     "output_type": "stream",
     "text": [
      "C:\\Users\\crown\\AppData\\Roaming\\Python\\Python39\\site-packages\\transformers\\pipelines\\base.py:1123: UserWarning: You seem to be using the pipelines sequentially on GPU. In order to maximize efficiency please use a dataset\n",
      "  warnings.warn(\n",
      "C:\\Users\\crown\\AppData\\Roaming\\Python\\Python39\\site-packages\\transformers\\generation\\configuration_utils.py:392: UserWarning: `do_sample` is set to `False`. However, `temperature` is set to `0.1` -- this flag is only used in sample-based generation modes. You should set `do_sample=True` or unset `temperature`.\n",
      "  warnings.warn(\n",
      "Setting `pad_token_id` to `eos_token_id`:2 for open-end generation.\n"
     ]
    },
    {
     "name": "stdout",
     "output_type": "stream",
     "text": [
      "行 12 的答案: {'context': 'Materials Cloud has repository https://github.com/materialscloud-org; Materials Cloud Youtube channel required tool Materials Cloud; Materials Cloud has description \"Materials Cloud is built to enable the seamless sharing and dissemination of resources in computational materials science, offering educational, research, and archiving tools; simulation software and services; and curated and raw data. These underpin published results and empower data-based discovery, compliant with data management plans and the FAIR principles.\"; Data Processing for Engineers and Scientists required tool python; Selected Chapters in Data Processing: Microstructure Analysis and Synthesis required tool python; Information Service Engineering required tool python; Materials Commons has repository https://github.com/materials-commons/materialscommons.org; Materials Commons has description \"A site for Materials Scientists to collaborate, store and publish research. The Materials Commons is supported by the U.S. Department of Energy, Office of Basic Energy Sciences, Division of Materials Sciences and Engineering.\"; Pyscal has repository https://github.com/pyscal/pyscal; Pyscal uses method molecular dynamics; Pyscal uses method atomistic simulations; Pyscal has  description \"Python library written in C++ for calculation of local atomic structural environment\"; matminer has repository https://github.com/hackingmaterials/matminer; matminer has  description \"Python library for data mining the properties of materials.\"', 'question': 'What are python libraries used for calculating local atomic structural environment?', 'text': ' Python libraries used for calculating local atomic structural environment include Pyscal and matminer.'}\n",
      "已处理 12 / 38 行\n"
     ]
    },
    {
     "name": "stderr",
     "output_type": "stream",
     "text": [
      "C:\\Users\\crown\\AppData\\Roaming\\Python\\Python39\\site-packages\\transformers\\pipelines\\base.py:1123: UserWarning: You seem to be using the pipelines sequentially on GPU. In order to maximize efficiency please use a dataset\n",
      "  warnings.warn(\n",
      "C:\\Users\\crown\\AppData\\Roaming\\Python\\Python39\\site-packages\\transformers\\generation\\configuration_utils.py:392: UserWarning: `do_sample` is set to `False`. However, `temperature` is set to `0.1` -- this flag is only used in sample-based generation modes. You should set `do_sample=True` or unset `temperature`.\n",
      "  warnings.warn(\n",
      "Setting `pad_token_id` to `eos_token_id`:2 for open-end generation.\n"
     ]
    },
    {
     "name": "stdout",
     "output_type": "stream",
     "text": [
      "行 13 的答案: {'context': 'Laboratory Instrument has type nan; Atomic Simulation Environment has type software; Atomic Simulation Environment has type processing software; Atomic Simulation Environment has type research software; Atomic Simulation Environment has type visualization software; Atomic Simulation Environment uses method atomistic simulations; Atomic Simulation Environment has  description \"set of tools and Python modules for setting up, manipulating, running, visualizing and analyzing atomistic simulations\"; electronic lab notebook has type nan; Jupyter notebooks has type object type; Datasets for the analysis of dislocations at grain boundaries and during vein formation in cyclically deformed Ni micropillars has object type Jupyter notebooks; Experimental Workflow has type nan', 'question': 'What are the electronic lab notebooks available?', 'text': '\\nThe electronic lab notebooks available are not specified in the given context.'}\n",
      "已处理 13 / 38 行\n"
     ]
    },
    {
     "name": "stderr",
     "output_type": "stream",
     "text": [
      "C:\\Users\\crown\\AppData\\Roaming\\Python\\Python39\\site-packages\\transformers\\pipelines\\base.py:1123: UserWarning: You seem to be using the pipelines sequentially on GPU. In order to maximize efficiency please use a dataset\n",
      "  warnings.warn(\n",
      "C:\\Users\\crown\\AppData\\Roaming\\Python\\Python39\\site-packages\\transformers\\generation\\configuration_utils.py:392: UserWarning: `do_sample` is set to `False`. However, `temperature` is set to `0.1` -- this flag is only used in sample-based generation modes. You should set `do_sample=True` or unset `temperature`.\n",
      "  warnings.warn(\n",
      "Setting `pad_token_id` to `eos_token_id`:2 for open-end generation.\n"
     ]
    },
    {
     "name": "stdout",
     "output_type": "stream",
     "text": [
      "行 14 的答案: {'context': 'dynasor has website https://dynasor.materialsmodeling.org/; dynasor has  description \"dynasor is a simple tool for calculating total and partial dynamical structure factors as well as current correlation functions from molecular dynamics (MD) simulations.\"; Crystallography Open Database (COD) has website http://www.crystallography.net/cod/; Crystallography Open Database (COD) has description \"Open-access collection of crystal structures of organic, inorganic, metal-organic compounds and minerals, excluding biopolymers.\"; Yet another force field has website https://molmod.ugent.be/software/yaff; Yet another force field has programming Language  python; Yet another force field has programming Language  C; Yet another force field has  description \" pythonic force-field (FF) code used at the Center for Molecular Modeling (CMM) to test-drive new FF models\"; Visual Molecular Dynamics has operating system  Linux; Visual Molecular Dynamics has operating system  Mac OS; Visual Molecular Dynamics has operating system  Microsoft Windows; Visual Molecular Dynamics has website https://www.ks.uiuc.edu/Research/vmd/; Visual Molecular Dynamics has  description \"molecular modelling and visualization computer program\"', 'question': 'What are the software for Molecular Dynamics (MD)?', 'text': '1. Dynasor - Simple tool for calculating total and partial dynamical structure factors as well as current correlation functions from MD simulations. Website: <https://dynasor.materialsmodeling.org/>\\n2. Crystallography Open Database (COD) - An open-access collection of crystal structures of various types, excluding biopolymers. Website: <http://www.crystallography.net/cod/>\\n3. Yet another force field - Force field with Python programming language. Website: <https://molmod.ugent.be/software/yaff>\\n4. Yet another force field - Force field with C programming language. Description: \"Pythonic force-field (FF) code used at the Center for Molecular Modeling (CMM) to test-drive new FF models.\"\\n5. Visual Molecular Dynamics - Molecular modeling and visualization computer program. Operating systems: Linux, Mac OS, Microsoft Windows. Website: <https://www.ks.uiuc.edu/Research/vmd/>'}\n",
      "已处理 14 / 38 行\n"
     ]
    },
    {
     "name": "stderr",
     "output_type": "stream",
     "text": [
      "C:\\Users\\crown\\AppData\\Roaming\\Python\\Python39\\site-packages\\transformers\\pipelines\\base.py:1123: UserWarning: You seem to be using the pipelines sequentially on GPU. In order to maximize efficiency please use a dataset\n",
      "  warnings.warn(\n",
      "C:\\Users\\crown\\AppData\\Roaming\\Python\\Python39\\site-packages\\transformers\\generation\\configuration_utils.py:392: UserWarning: `do_sample` is set to `False`. However, `temperature` is set to `0.1` -- this flag is only used in sample-based generation modes. You should set `do_sample=True` or unset `temperature`.\n",
      "  warnings.warn(\n",
      "Setting `pad_token_id` to `eos_token_id`:2 for open-end generation.\n"
     ]
    },
    {
     "name": "stdout",
     "output_type": "stream",
     "text": [
      "行 15 的答案: {'context': 'Materials Design Ontology (MDO) has description \"MDO is an ontology for materials design field, representing the domain knowledge specifically related to solid-state physics and computational materials science.\"; Materials Design Ontology (MDO) has semantic expressivity nan; MaterialsMine (MM) has description \"A materials ontology to support data publication involving nanomaterials and metamaterials.\"; MaterialsMine (MM) has semantic expressivity nan', 'question': 'What are the ontologies in nanomaterials domain?', 'text': '1. Materials Design Ontology (MDO): Semantically expressive with focus on solid-state physics and computational materials science.\\n2. MaterialsMine (MM): Semantically expressive with specific emphasis on nanomaterials and metamaterials.'}\n",
      "已处理 15 / 38 行\n"
     ]
    },
    {
     "name": "stderr",
     "output_type": "stream",
     "text": [
      "C:\\Users\\crown\\AppData\\Roaming\\Python\\Python39\\site-packages\\transformers\\pipelines\\base.py:1123: UserWarning: You seem to be using the pipelines sequentially on GPU. In order to maximize efficiency please use a dataset\n",
      "  warnings.warn(\n",
      "C:\\Users\\crown\\AppData\\Roaming\\Python\\Python39\\site-packages\\transformers\\generation\\configuration_utils.py:392: UserWarning: `do_sample` is set to `False`. However, `temperature` is set to `0.1` -- this flag is only used in sample-based generation modes. You should set `do_sample=True` or unset `temperature`.\n",
      "  warnings.warn(\n",
      "Setting `pad_token_id` to `eos_token_id`:2 for open-end generation.\n"
     ]
    },
    {
     "name": "stdout",
     "output_type": "stream",
     "text": [
      "行 16 的答案: {'context': 'Novel Materials Discovery (NOMAD) has type data portal; Novel Materials Discovery (NOMAD) has description \"The Novel Materials Discovery (NOMAD) Laboratory maintains the largest worldwide repository for input and output files of all important computational materials science computer programs.\"; Elk has type software; Elk has type research software; Elk uses method Density functional theory; Elk has  description \"An all-electron full-potential linearised augmented-plane wave (LAPW) code with many advanced features. Written originally at Karl-Franzens-Universität Graz as a milestone of the EXCITING EU Research and Training Network, the code is designed to be as simple as possible so that new developments in the field of density functional theory (DFT) can be added quickly and reliably. \"; NOMAD has type funding project; Dusseldorf Advanced Material Simulation Kit has type software; Dusseldorf Advanced Material Simulation Kit has type research software; Dusseldorf Advanced Material Simulation Kit uses method crystal plasticity; Dusseldorf Advanced Material Simulation Kit has  description \"DAMASK is a unified multi-physics crystal plasticity simulation package. The solution of continuum mechanical boundary value problems requires a constitutive response that connects deformation and stress at each material point. This problem is solved in DAMASK on the basis of crystal plasticity using a variety of constitutive models and homogenization approaches. However, treating mechanics in isolation is no longer sufficient to study emergent advanced high-strength materials. In these materials, deformation happens interrelated with displacive phase transformation, significant heating, and potential damage evolution. Therefore, DAMASK is capable of handling multi-physics problems. Following a modular approach, additional field equations are solved in a fully coupled way using a staggered approach.\\n\\n\"', 'question': 'What is DAMASK?', 'text': '\\nDAMASK is a unified multi-physics crystal plasticity simulation package used to solve continuum mechanical boundary value problems by connecting deformation and stress at each material point. It utilizes a variety of constitutive models and homogenization approaches to handle multi-physics problems involving displacive phase transformations, significant heating, and potential damage evolution.'}\n",
      "已处理 16 / 38 行\n"
     ]
    },
    {
     "name": "stderr",
     "output_type": "stream",
     "text": [
      "C:\\Users\\crown\\AppData\\Roaming\\Python\\Python39\\site-packages\\transformers\\pipelines\\base.py:1123: UserWarning: You seem to be using the pipelines sequentially on GPU. In order to maximize efficiency please use a dataset\n",
      "  warnings.warn(\n",
      "C:\\Users\\crown\\AppData\\Roaming\\Python\\Python39\\site-packages\\transformers\\generation\\configuration_utils.py:392: UserWarning: `do_sample` is set to `False`. However, `temperature` is set to `0.1` -- this flag is only used in sample-based generation modes. You should set `do_sample=True` or unset `temperature`.\n",
      "  warnings.warn(\n",
      "Setting `pad_token_id` to `eos_token_id`:2 for open-end generation.\n"
     ]
    },
    {
     "name": "stdout",
     "output_type": "stream",
     "text": [
      "行 17 的答案: {'context': 'Materials Design Ontology (MDO) has repository https://github.com/LiUSemWeb/Materials-Design-Ontology; Materials Design Ontology (MDO) has description \"MDO is an ontology for materials design field, representing the domain knowledge specifically related to solid-state physics and computational materials science.\"; Computational Material Sample Ontology has repository https://github.com/Materials-Data-Science-and-Informatics/cmso-ontology; Computational Material Sample Ontology has contact point Dr.-Ing Abril Azocar Guzman; Computational Material Sample Ontology has description \"CMSO is an ontology that aims to describe computational materials science samples (or structures), including crystalline defects.\"; MatPortal has website https://matportal.org/; MatPortal has description \"Ontology repository for materials science.\"; Development of coupled ontologies and workflows for thermochemical treatments has main task area  Ontologies for Materials Science; Alignment of application- and higher-level ontologies has main task area  Ontologies for Materials Science; Co-creation environment for experts has main task area  Ontologies for Materials Science; Adaptive automated characterization pipelines and meta data schemas for high throughput experiments has main task area  Ontologies for Materials Science; Method- and scale-bridging workflows and data structures for tomography has main task area  Ontologies for Materials Science; Unified ontology for matrix-inclusion microstructure and composites has main task area  Ontologies for Materials Science; Ontologies for defects in crystals has main task area  Ontologies for Materials Science; Ontologies for Materials Science has description \"This TA develops Ontologies and metadata schemes in close cooperation with the stakeholders, tailored to their respective needs.\"', 'question': 'What are the data portals for materials science ontologies?', 'text': '1. MDO: <https://github.com/LiUSemWeb/Materials-Design-Ontology>\\n2. CMSO: <https://github.com/Materials-Data-Science-and-Informatics/cmso-ontology>\\n3. MatPortal: <https://matportal.org/>'}\n",
      "已处理 17 / 38 行\n"
     ]
    },
    {
     "name": "stderr",
     "output_type": "stream",
     "text": [
      "C:\\Users\\crown\\AppData\\Roaming\\Python\\Python39\\site-packages\\transformers\\pipelines\\base.py:1123: UserWarning: You seem to be using the pipelines sequentially on GPU. In order to maximize efficiency please use a dataset\n",
      "  warnings.warn(\n",
      "C:\\Users\\crown\\AppData\\Roaming\\Python\\Python39\\site-packages\\transformers\\generation\\configuration_utils.py:392: UserWarning: `do_sample` is set to `False`. However, `temperature` is set to `0.1` -- this flag is only used in sample-based generation modes. You should set `do_sample=True` or unset `temperature`.\n",
      "  warnings.warn(\n",
      "Setting `pad_token_id` to `eos_token_id`:2 for open-end generation.\n"
     ]
    },
    {
     "name": "stdout",
     "output_type": "stream",
     "text": [
      "行 18 的答案: {'context': 'Crystallography Open Database (COD) has citation Gražulis, S., Daškevič, A., Merkys, A., Chateigner, D., Lutterotti, L., Quirós, M., Serebryanaya, N. R., Moeck, P., Downs, R. T. & LeBail, A. (2012). Crystallography Open Database (COD): an open-access collection of crystal structures and platform for world-wide collaboration. Nucleic Acids Research, 40, D420-D427. doi: 10.1093/nar/gkr900 (BibTeX, EndNote/Refer, plain text)\\n\\nGrazulis, S., Chateigner, D., Downs, R. T., Yokochi, A. T., Quiros, M., Lutterotti, L., Manakova, E., Butkus, J., Moeck, P. & Le Bail, A. (2009). Crystallography Open Database – an open-access collection of crystal structures. Journal of Applied Crystallography, 42, 726-729. doi: 10.1107/S0021889809016690 (BibTeX, EndNote/Refer, plain text); Crystallography Open Database (COD) has description \"Open-access collection of crystal structures of organic, inorganic, metal-organic compounds and minerals, excluding biopolymers.\"; :n11f452d15b2c4c7492b23cc31220e483b27 has first element Instrument', 'question': 'What are the instruments for APT?', 'text': '\\nThe instrument used for APT (Apertureless Post-Meridian Stellar Tracking) is not specified in the provided context.'}\n",
      "已处理 18 / 38 行\n"
     ]
    },
    {
     "name": "stderr",
     "output_type": "stream",
     "text": [
      "C:\\Users\\crown\\AppData\\Roaming\\Python\\Python39\\site-packages\\transformers\\pipelines\\base.py:1123: UserWarning: You seem to be using the pipelines sequentially on GPU. In order to maximize efficiency please use a dataset\n",
      "  warnings.warn(\n",
      "C:\\Users\\crown\\AppData\\Roaming\\Python\\Python39\\site-packages\\transformers\\generation\\configuration_utils.py:392: UserWarning: `do_sample` is set to `False`. However, `temperature` is set to `0.1` -- this flag is only used in sample-based generation modes. You should set `do_sample=True` or unset `temperature`.\n",
      "  warnings.warn(\n",
      "Setting `pad_token_id` to `eos_token_id`:2 for open-end generation.\n"
     ]
    },
    {
     "name": "stdout",
     "output_type": "stream",
     "text": [
      "行 19 的答案: {'context': 'nan', 'question': 'In which institution can I find tomography equipment?', 'text': '\\n### ANSWER:\\nTomography equipment can be found in medical institutions such as hospitals or clinics that offer diagnostic imaging services like CT scans, MRI scans, etc.'}\n",
      "已处理 19 / 38 行\n"
     ]
    },
    {
     "name": "stderr",
     "output_type": "stream",
     "text": [
      "C:\\Users\\crown\\AppData\\Roaming\\Python\\Python39\\site-packages\\transformers\\pipelines\\base.py:1123: UserWarning: You seem to be using the pipelines sequentially on GPU. In order to maximize efficiency please use a dataset\n",
      "  warnings.warn(\n",
      "C:\\Users\\crown\\AppData\\Roaming\\Python\\Python39\\site-packages\\transformers\\generation\\configuration_utils.py:392: UserWarning: `do_sample` is set to `False`. However, `temperature` is set to `0.1` -- this flag is only used in sample-based generation modes. You should set `do_sample=True` or unset `temperature`.\n",
      "  warnings.warn(\n",
      "Setting `pad_token_id` to `eos_token_id`:2 for open-end generation.\n"
     ]
    },
    {
     "name": "stdout",
     "output_type": "stream",
     "text": [
      "行 20 的答案: {'context': 'The MatWerk ontology has  description \"The MatWerk ontology represents research data and related activities of the MSE community. A first version of the ontology will be simplified, focusing on (i) community structure: researchers, research projects, universities, and institutions; (ii) infrastructure: software, workflows, ontologies, schemas, APIs, instruments, facilities, educational resources; and (iii) data: repositories, databases, scientific publications, published datasets and reference data.\"; Dr. Amir Laadhar has expertise in ontology matching; Ontologies for Materials Science has description \"This TA develops Ontologies and metadata schemes in close cooperation with the stakeholders, tailored to their respective needs.\"', 'question': 'What are the educational resources for Ontology?', 'text': '\\nThere is no specific mention of educational resources for Ontology in the provided context.'}\n",
      "已处理 20 / 38 行\n"
     ]
    },
    {
     "name": "stderr",
     "output_type": "stream",
     "text": [
      "C:\\Users\\crown\\AppData\\Roaming\\Python\\Python39\\site-packages\\transformers\\pipelines\\base.py:1123: UserWarning: You seem to be using the pipelines sequentially on GPU. In order to maximize efficiency please use a dataset\n",
      "  warnings.warn(\n",
      "C:\\Users\\crown\\AppData\\Roaming\\Python\\Python39\\site-packages\\transformers\\generation\\configuration_utils.py:392: UserWarning: `do_sample` is set to `False`. However, `temperature` is set to `0.1` -- this flag is only used in sample-based generation modes. You should set `do_sample=True` or unset `temperature`.\n",
      "  warnings.warn(\n",
      "Setting `pad_token_id` to `eos_token_id`:2 for open-end generation.\n"
     ]
    },
    {
     "name": "stdout",
     "output_type": "stream",
     "text": [
      "行 21 的答案: {'context': 'HybriD³ materials database has website https://materials.hybrid3.duke.edu/; HybriD³ materials database has description \"The HybriD³ materials database provides a comprehensive collection of experimental and computational materials data for crystalline organic-inorganic compounds, predominantly based on the perovskite paradigm.\"; Materials Cloud has repository https://github.com/materialscloud-org; Materials Cloud has website https://www.materialscloud.org/discover/mc3d/dashboard/ptable; Materials Cloud has description \"Materials Cloud is built to enable the seamless sharing and dissemination of resources in computational materials science, offering educational, research, and archiving tools; simulation software and services; and curated and raw data. These underpin published results and empower data-based discovery, compliant with data management plans and the FAIR principles.\"; Python Materials Genomics has repository https://github.com/materialsproject/pymatgen; Python Materials Genomics has website https://pymatgen.org/; Python Materials Genomics has  description \"materials analysis code that defines core object representations for structures and molecules with support for many electronic structure codes. It is currently the core analysis code powering the Materials Project.\"; Materials Platform for Data Science has website https://mpds.io/; Materials Platform for Data Science has description \"Online materials database (known as PAULING FILE project) with nearly 2 million entries: physical properties, crystal structures, phase diagrams, available via API, ready for modern data-intensive applications. The source of these entries are about 300,000 peer-reviewed publications in materials science, processed during the last 16 years by an international team of PhD editors. The results are presented online with a quick search interface. The basic access is provided for free.\"', 'question': 'What is the API of Materials Project?', 'text': '\\nAPI of Materials Project is not mentioned in the given context.'}\n",
      "已处理 21 / 38 行\n"
     ]
    },
    {
     "name": "stderr",
     "output_type": "stream",
     "text": [
      "C:\\Users\\crown\\AppData\\Roaming\\Python\\Python39\\site-packages\\transformers\\pipelines\\base.py:1123: UserWarning: You seem to be using the pipelines sequentially on GPU. In order to maximize efficiency please use a dataset\n",
      "  warnings.warn(\n",
      "C:\\Users\\crown\\AppData\\Roaming\\Python\\Python39\\site-packages\\transformers\\generation\\configuration_utils.py:392: UserWarning: `do_sample` is set to `False`. However, `temperature` is set to `0.1` -- this flag is only used in sample-based generation modes. You should set `do_sample=True` or unset `temperature`.\n",
      "  warnings.warn(\n",
      "Setting `pad_token_id` to `eos_token_id`:2 for open-end generation.\n"
     ]
    },
    {
     "name": "stdout",
     "output_type": "stream",
     "text": [
      "行 22 的答案: {'context': 'py4vasp has  description \"Python interface to extract data from VASP calculations\"; software has definition source \"James Malone\"; software has definition source \"Modified in parts from https://en.wikipedia.org/wiki/Software\"; software has definition source \"Robert Stevens\"; OpenPathSampling has  description \"Python library to facilitate path sampling algorithms.\"; OpenPathSampling has citation David W.H. Swenson, Jan-Hendrik Prinz, Frank Noé, John D. Chodera, and Peter G. Bolhuis. “OpenPathSampling: A flexible, open framework for path sampling simulations. 1. Basics.” J. Chem. Theory Comput. 15, 813 (2019). https://doi.org/10.1021/acs.jctc.8b00626      David W.H. Swenson, Jan-Hendrik Prinz, Frank Noé, John D. Chodera, and Peter G. Bolhuis. “OpenPathSampling: A flexible, open framework for path sampling simulations. 2. Building and Customizing Path Ensembles and Sample Schemes.” J. Chem. Theory Comput. 15, 837 (2019). https://doi.org/10.1021/acs.jctc.8b00627 ', 'question': 'Which simulation software have a python API?', 'text': ' py4vasp and OpenPathSampling are two simulation software that have Python APIs.'}\n",
      "已处理 22 / 38 行\n"
     ]
    },
    {
     "name": "stderr",
     "output_type": "stream",
     "text": [
      "C:\\Users\\crown\\AppData\\Roaming\\Python\\Python39\\site-packages\\transformers\\pipelines\\base.py:1123: UserWarning: You seem to be using the pipelines sequentially on GPU. In order to maximize efficiency please use a dataset\n",
      "  warnings.warn(\n",
      "C:\\Users\\crown\\AppData\\Roaming\\Python\\Python39\\site-packages\\transformers\\generation\\configuration_utils.py:392: UserWarning: `do_sample` is set to `False`. However, `temperature` is set to `0.1` -- this flag is only used in sample-based generation modes. You should set `do_sample=True` or unset `temperature`.\n",
      "  warnings.warn(\n",
      "Setting `pad_token_id` to `eos_token_id`:2 for open-end generation.\n"
     ]
    },
    {
     "name": "stdout",
     "output_type": "stream",
     "text": [
      "行 23 的答案: {'context': 'Materials Platform for Data Science has description \"Online materials database (known as PAULING FILE project) with nearly 2 million entries: physical properties, crystal structures, phase diagrams, available via API, ready for modern data-intensive applications. The source of these entries are about 300,000 peer-reviewed publications in materials science, processed during the last 16 years by an international team of PhD editors. The results are presented online with a quick search interface. The basic access is provided for free.\"; MatDB Online has documentation https://publications.jrc.ec.europa.eu/repository/handle/JRC75978; MatDB Online has citation Austin T, Over H. MATDB ONLINE—A STANDARDS-BASED SYSTEM FOR PRESERVING, MANAGING, AND EXCHANGING ENGINEERING MATERIALS TEST DATA. DATA SCIENCE JOURNAL 11; 2012. JRC75978; MatDB Online has description \"MatDB Online facility is a Standards-based system for preserving, managing, and exchanging engineering materials test data.\"; NOMAD Metainfo has documentation https://nomad-lab.eu/services/metainfo; NOMAD Metainfo has description \"The NOMAD Metainfo stores descriptive and structured information about materials-science data contained in the NOMAD Archive\"; Organic Materials Database (OMDB) has description \"The organic materials database is an open access electronic structure database for 3-dimensional organic crystals, developed and hosted at the Nordic Institute for Theoretical Physics – Nordita.\\n\\nIt provides tools for search queries based on data-mining and machine learning techniques. The universal features provided on our web interface facilitate the design of novel functional organic materials with a wide-range of applications.\"; MatDB has description \"MatDB is a database application for experimentally measured engineering materials data. It supports open, registered, and restricted access. It presently hosts more than 20.000 unique data sets coming mainly from European and Member State research programmes. It supports web interfaces for entering, browsing, and retrieving data. MatDB is also enabled for innovative services, including data citation and interoperability standards. The data citation service relies on DataCite DOIs. \"; MatPortal has description \"Ontology repository for materials science.\"', 'question': 'What is the documentation of the \"MatDB Online\"?', 'text': ' Documentation URL: <https://publications.jrc.ec.europa.eu/repository/handle/JRC75978>'}\n",
      "已处理 23 / 38 行\n"
     ]
    },
    {
     "name": "stderr",
     "output_type": "stream",
     "text": [
      "C:\\Users\\crown\\AppData\\Roaming\\Python\\Python39\\site-packages\\transformers\\pipelines\\base.py:1123: UserWarning: You seem to be using the pipelines sequentially on GPU. In order to maximize efficiency please use a dataset\n",
      "  warnings.warn(\n",
      "C:\\Users\\crown\\AppData\\Roaming\\Python\\Python39\\site-packages\\transformers\\generation\\configuration_utils.py:392: UserWarning: `do_sample` is set to `False`. However, `temperature` is set to `0.1` -- this flag is only used in sample-based generation modes. You should set `do_sample=True` or unset `temperature`.\n",
      "  warnings.warn(\n",
      "Setting `pad_token_id` to `eos_token_id`:2 for open-end generation.\n"
     ]
    },
    {
     "name": "stdout",
     "output_type": "stream",
     "text": [
      "行 24 的答案: {'context': 'https://compositionspace.readthedocs.io/en/latest/ has type documentation; https://rdf.pyscal.org has type documentation; https://fairmat-experimental.github.io/nexus-fairmat-proposal/9636feecb79bb32b828b1a9804269573256d7696/index.html has type documentation; https://workflow-gallery.github.io/calphy/README.html has type documentation; https://github.com/DataAnalyticsEngineering/EQ2PC#readme has type documentation; http://feap.berkeley.edu/wiki/index.php?title=FEAP_Wiki_Main_Page has type documentation; https://www.paraview.org/documentation/ has type documentation; https://www.vasp.at/wiki/index.php/The_VASP_Manual has type documentation; http://www.castep.org/CASTEP/Documentation has type documentation; https://www.cpmd.org/wordpress/index.php/documentation/ has type documentation; https://docs.abinit.org/ has type documentation; https://www.quantum-espresso.org/documentation/ has type documentation; http://jdftx.org/Using.html has type documentation; https://manual.cp2k.org/#gsc.tab=0 has type documentation; https://wiki.fysik.dtu.dk/gpaw/documentation/documentation.html has type documentation; http://qboxcode.org/doc/html/ has type documentation; https://departments.icmab.es/leem/siesta/Documentation/index.html has type documentation; http://www.openmx-square.org/openmx_man3.9/index.html has type documentation; https://elk.sourceforge.io/#documentation has type documentation; http://exciting.wikidot.com/tutorials-oxygen has type documentation; https://www.flapw.de/MaX-6.0/documentation/userGuideOverview/ has type documentation; http://www.wien2k.at/reg_user/textbooks/usersguide.pdf has type documentation; https://docs.lammps.org/Manual.html has type documentation; http://imd.itap.physik.uni-stuttgart.de/userguide/imd.html has type documentation; https://manual.gromacs.org/current/index.html has type documentation; https://docs.fenicsproject.org/ has type documentation; https://damask.mpie.de/documentation/index.html has type documentation; https://pyiron.readthedocs.io/en/latest/ has type documentation; https://aiida.readthedocs.io/projects/aiida-core/en/latest/ has type documentation; https://simstack.readthedocs.io/en/latest/ has type documentation; https://wiki.fysik.dtu.dk/ase/ase/ase.html has type documentation; https://www.ovito.org/docs/current/ has type documentation; http://jmol.sourceforge.net/docs/ has type documentation; http://jp-minerals.org/vesta/en/doc.html has type documentation; http://www.xcrysden.org/Documentation.html has type documentation; https://www.ks.uiuc.edu/Research/vmd/current/ug/ has type documentation; https://phonopy.github.io/phonopy/#documentation has type documentation; https://vibes-developers.gitlab.io/vibes/Documentation/0_intro/ has type documentation; https://avogadro.cc/docs/ has type documentation; https://pymatgen.org/usage.html has type documentation; http://molmod.github.io/tamkin/ has type documentation; https://lammps.github.io/pizza/doc/Manual.html has type documentation; https://freud.readthedocs.io/en/latest/ has type documentation; http://molmod.github.io/yaff/ has type documentation; https://computationalmaterials.gitlab.io/clease/api_doc.html has type documentation; https://kliff.readthedocs.io/en/latest/ has type documentation; https://mendeleev.readthedocs.io/en/stable/quick.html has type documentation; https://ahartmaier.github.io/pyLabFEA/ has type documentation; https://pacemaker.readthedocs.io/en/latest/ has type documentation; https://paraprobe-toolbox.readthedocs.io/en/latest/ has type documentation; https://stabix.readthedocs.io/en/latest/ has type documentation; https://math.lbl.gov/voro++/doc/ has type documentation; http://www.qhull.org/html/index.htm has type documentation; https://doc.elabftw.net/ has type documentation; https://kadi4mat.readthedocs.io/en/stable/index.html has type documentation; https://github.com/Materials-Data-Science-and-Informatics/metador/blob/main/README.md has type documentation; https://docs.httk.org/en/latest/ has type documentation; https://colabfit.github.io/colabfit-tools/html/index.html has type documentation; https://static.oqmd.org/static/docs/index.html has type documentation; https://api.materialsproject.org/docs has type documentation; https://www.turbomole.org/turbomole/turbomole-documentation/ has type documentation; https://jacksund.github.io/simmate/home/ has type documentation; https://kit-data-manager.github.io/fairdoscope/ has type documentation; https://doi.org/10.1016/j.msea.2019.138295 has type documentation; https://doi.org/10.1098/rspa.2020.0568 has type documentation; https://doi.org/10.1002/nme.6869 has type documentation; https://doi.org/10.3389/fmats.2019.00075 has type documentation; https://doi.org/10.1007/s10853-020-05740-x has type documentation; https://doi.org/10.1016/j.msea.2018.01.033 has type documentation; https://www.optimade.org/ has type documentation; https://materials-data-science-and-informatics.github.io/dislocation-ontology/ has type documentation; w3id.org/mdo/full/1.0/ has type documentation; http://www.quantum-simulation.org/ has type documentation; https://publications.jrc.ec.europa.eu/repository/handle/JRC75978 has type documentation; http://docs.oasis-open.org/materials/materials-matml-spec-pr-01.htm has type documentation; https://www.iucr.org/resources/cif has type documentation; https://colabfit.org/about/ has type documentation; https://citrineinformatics.github.io/gemd-docs/ has type documentation; https://nomad-lab.eu/services/metainfo has type documentation; https://citrineinformatics.github.io/pif-documentation/index.html has type documentation; https://www.nexusformat.org/ has type documentation; https://emmc.eu/moda/ has type documentation; http://icatproject-contrib.github.io/CSMD/ has type documentation; https://www.izus.uni-stuttgart.de/fokus/engmeta has type documentation; https://docs.dftk.org/stable/ has type documentation; https://doi.org/10.5281/zenodo.7625259 has type documentation; https://calphy.org has type documentation; https://pyscal.org has type documentation; https://imagej.net/learn/ has type documentation; documentation has type nan; Proprietary license has type licence; Propietary has type Proprietary commercial software license; Commercial license has type Proprietary commercial software license; Propietary academic license has type Proprietary commercial software license; Academic and commercial license has type Proprietary commercial software license; Propietary commercial license has type Proprietary commercial software license; Proprietary commercial software license has type nan; has format has type nan; software repository has type nan; Commercial license has type Proprietary commercial software license', 'question': 'What are the types of software licenses?', 'text': '\\nThere are several types of software licenses mentioned in the provided context:\\n\\n* Proprietary commercial software license\\n* Proprietary academic license\\n* Commercial license\\n* Open source license (mentioned but not explicitly stated)'}\n",
      "已处理 24 / 38 行\n"
     ]
    },
    {
     "name": "stderr",
     "output_type": "stream",
     "text": [
      "C:\\Users\\crown\\AppData\\Roaming\\Python\\Python39\\site-packages\\transformers\\pipelines\\base.py:1123: UserWarning: You seem to be using the pipelines sequentially on GPU. In order to maximize efficiency please use a dataset\n",
      "  warnings.warn(\n",
      "C:\\Users\\crown\\AppData\\Roaming\\Python\\Python39\\site-packages\\transformers\\generation\\configuration_utils.py:392: UserWarning: `do_sample` is set to `False`. However, `temperature` is set to `0.1` -- this flag is only used in sample-based generation modes. You should set `do_sample=True` or unset `temperature`.\n",
      "  warnings.warn(\n",
      "Setting `pad_token_id` to `eos_token_id`:2 for open-end generation.\n"
     ]
    },
    {
     "name": "stdout",
     "output_type": "stream",
     "text": [
      "行 25 的答案: {'context': 'Materials Cloud has conforms to specification OPTIMADE; Materials Cloud Youtube channel required tool Materials Cloud; Materials Cloud has description \"Materials Cloud is built to enable the seamless sharing and dissemination of resources in computational materials science, offering educational, research, and archiving tools; simulation software and services; and curated and raw data. These underpin published results and empower data-based discovery, compliant with data management plans and the FAIR principles.\"; Materials Commons has description \"A site for Materials Scientists to collaborate, store and publish research. The Materials Commons is supported by the U.S. Department of Energy, Office of Basic Energy Sciences, Division of Materials Sciences and Engineering.\"; Materials Data Repository has description \"MDR is a data repository to collect and store papers, presentation materials, and related materials data to accumulate and release them in a form suitable for the promotion of materials research and materials informatics. Users can search the documents and the data from information (metadata) such as sample, instrument, method, and from the full text of the deposited data, to browse and download them freely. \"', 'question': 'What are the software used to produce the data in the Materials Cloud repository?', 'text': '\\nThe software used to produce the data in the Materials Cloud repository includes simulation software and services, and curated and raw data.'}\n",
      "已处理 25 / 38 行\n"
     ]
    },
    {
     "name": "stderr",
     "output_type": "stream",
     "text": [
      "C:\\Users\\crown\\AppData\\Roaming\\Python\\Python39\\site-packages\\transformers\\pipelines\\base.py:1123: UserWarning: You seem to be using the pipelines sequentially on GPU. In order to maximize efficiency please use a dataset\n",
      "  warnings.warn(\n",
      "C:\\Users\\crown\\AppData\\Roaming\\Python\\Python39\\site-packages\\transformers\\generation\\configuration_utils.py:392: UserWarning: `do_sample` is set to `False`. However, `temperature` is set to `0.1` -- this flag is only used in sample-based generation modes. You should set `do_sample=True` or unset `temperature`.\n",
      "  warnings.warn(\n",
      "Setting `pad_token_id` to `eos_token_id`:2 for open-end generation.\n"
     ]
    },
    {
     "name": "stdout",
     "output_type": "stream",
     "text": [
      "行 26 的答案: {'context': 'Framework for curation and distribution of reference datasets related participant project is Bundesanstalt für Materialforschung und -prüfung (BAM); Ontologies for defects in crystals related participant project is Bundesanstalt für Materialforschung und -prüfung (BAM); NOMAD Metainfo has description \"The NOMAD Metainfo stores descriptive and structured information about materials-science data contained in the NOMAD Archive\"', 'question': 'What are datasets produced by the BAM organization?', 'text': ' Datasets produced by the BAM organization include reference datasets related to participant projects and ontologies for defects in crystals.'}\n",
      "已处理 26 / 38 行\n"
     ]
    },
    {
     "name": "stderr",
     "output_type": "stream",
     "text": [
      "C:\\Users\\crown\\AppData\\Roaming\\Python\\Python39\\site-packages\\transformers\\pipelines\\base.py:1123: UserWarning: You seem to be using the pipelines sequentially on GPU. In order to maximize efficiency please use a dataset\n",
      "  warnings.warn(\n",
      "C:\\Users\\crown\\AppData\\Roaming\\Python\\Python39\\site-packages\\transformers\\generation\\configuration_utils.py:392: UserWarning: `do_sample` is set to `False`. However, `temperature` is set to `0.1` -- this flag is only used in sample-based generation modes. You should set `do_sample=True` or unset `temperature`.\n",
      "  warnings.warn(\n",
      "Setting `pad_token_id` to `eos_token_id`:2 for open-end generation.\n"
     ]
    },
    {
     "name": "stdout",
     "output_type": "stream",
     "text": [
      "行 27 的答案: {'context': 'MatDat has description \"Over 1000 detailed, fully referenced and verified datasets for steels, aluminium and titanium alloys, cast irons/steels, weld metals. Materials can be searched according to a number of different criteria. Initial search results are presented in the form of a table from which they can be selected for presentation in form of detailed report or for comparison overview (up to 5 materials). In addition to material information and values of properties/parameters, images of microstructure, specimens and those of stress-strain, stress- and strain-life curves (if available) can be reviewed as well.\"; Elastic Constant Demo has related resource Elastic Constant Demo Data; Elastic Constant Demo Data has related resource Elastic Constant Demo; Elastic Constant Demo Data has repository http://hdl.handle.net/21.11102/7f78d0ed-4855-4fdf-b764-0bea725f8821; Elastic Constant Demo Data has description \"Data containing elastic constants of Al alloy\"', 'question': 'What are some available datasets of mechanical properties of steels?', 'text': \" Some available datasets of mechanical properties of steels include MatDat's over 1000 detailed, fully referenced and verified datasets for steels, cast irons/steels, weld metals. These datasets can be searched according to various criteria and initial search results are presented in the form of a table that can be selected for presentation in form of detailed reports or comparison overviews. Additionally, Elastic Constant Demo has data containing elastic constants of an Al alloy.\"}\n",
      "已处理 27 / 38 行\n"
     ]
    },
    {
     "name": "stderr",
     "output_type": "stream",
     "text": [
      "C:\\Users\\crown\\AppData\\Roaming\\Python\\Python39\\site-packages\\transformers\\pipelines\\base.py:1123: UserWarning: You seem to be using the pipelines sequentially on GPU. In order to maximize efficiency please use a dataset\n",
      "  warnings.warn(\n",
      "C:\\Users\\crown\\AppData\\Roaming\\Python\\Python39\\site-packages\\transformers\\generation\\configuration_utils.py:392: UserWarning: `do_sample` is set to `False`. However, `temperature` is set to `0.1` -- this flag is only used in sample-based generation modes. You should set `do_sample=True` or unset `temperature`.\n",
      "  warnings.warn(\n",
      "Setting `pad_token_id` to `eos_token_id`:2 for open-end generation.\n"
     ]
    },
    {
     "name": "stdout",
     "output_type": "stream",
     "text": [
      "行 28 的答案: {'context': 'Atomic Simulation Recipes has related resource ASE; Atomic Simulation Recipes has  description \"Recipes for Atomic Scale Materials Research. Collection of python recipes for common (and not so common)\\ntasks perfomed in atomic scale materials research. These tasks include\\nrelaxation of structures, calculating ground states, calculating band\\nstructures, calculating dielectric functions and so on.\"', 'question': 'What are datasets related to \"Transmission electron microscopy\"?', 'text': '\\nThere is no specific mention of datasets related to \"Transmission electron microscopy\" in the provided context.'}\n",
      "已处理 28 / 38 行\n"
     ]
    },
    {
     "name": "stderr",
     "output_type": "stream",
     "text": [
      "C:\\Users\\crown\\AppData\\Roaming\\Python\\Python39\\site-packages\\transformers\\pipelines\\base.py:1123: UserWarning: You seem to be using the pipelines sequentially on GPU. In order to maximize efficiency please use a dataset\n",
      "  warnings.warn(\n",
      "C:\\Users\\crown\\AppData\\Roaming\\Python\\Python39\\site-packages\\transformers\\generation\\configuration_utils.py:392: UserWarning: `do_sample` is set to `False`. However, `temperature` is set to `0.1` -- this flag is only used in sample-based generation modes. You should set `do_sample=True` or unset `temperature`.\n",
      "  warnings.warn(\n",
      "Setting `pad_token_id` to `eos_token_id`:2 for open-end generation.\n"
     ]
    },
    {
     "name": "stdout",
     "output_type": "stream",
     "text": [
      "行 29 的答案: {'context': 'NeXus Data Format has license LGPL-2.1 license; NeXus Data Format has documentation https://www.nexusformat.org/; NeXus Data Format has description \"NeXus is a common data format for neutron, x-ray, and muon science. It is being developed as an international standard by scientists and programmers representing major scientific facilities in order to facilitate greater cooperation in the analysis and visualization of neutron, x-ray, and muon data.\"; Metadata schemes for materials science data has license Creative Commons Attribution 4.0 International; Metadata schemes for materials science data has description \"Metadata schemes for materials science data in JSON representation as implemented in TTL representation in the application profiles in the version from 01.05.2022 of the research data management platform CoScInE. The schema are actively developed in the SFB1394 with the aim to construct defect phase diagrams in an automated fashion using all data from advanced experimental characterization and computer simulations produced in this project.\"; Elastic Constant Demo has license BSD 3-Clause License; Elastic Constant Demo has  description \"Workflow to calculate elastic constants of Al alloy\"; Phonon database at Kyoto university has license Creative Commons Attribution 4.0 International License; Phonon database at Kyoto university has description \"It’s getting to be a mainstream idea collecting a big set of ab-initio calculations and analyzing them by informatics approach. For scientific purpose, we plan to do it for phonon properties. As an attempt, we have run a set of ab-initio phonon calculations and left the raw data on this static web site. The aim of this web site is just leaving the data to distribute.\"; Elastic Constant Demo Data has license BSD 3-Clause License; Elastic Constant Demo Data has file Extension \".h5\"; Elastic Constant Demo Data has description \"Data containing elastic constants of Al alloy\"', 'question': 'What is the license of the dataset \"Elastic Constant Demo Data\"?', 'text': '\\nThe license of the dataset \"Elastic Constant Demo Data\" is BSD 3-Clause License.'}\n",
      "已处理 29 / 38 行\n"
     ]
    },
    {
     "name": "stderr",
     "output_type": "stream",
     "text": [
      "C:\\Users\\crown\\AppData\\Roaming\\Python\\Python39\\site-packages\\transformers\\pipelines\\base.py:1123: UserWarning: You seem to be using the pipelines sequentially on GPU. In order to maximize efficiency please use a dataset\n",
      "  warnings.warn(\n",
      "C:\\Users\\crown\\AppData\\Roaming\\Python\\Python39\\site-packages\\transformers\\generation\\configuration_utils.py:392: UserWarning: `do_sample` is set to `False`. However, `temperature` is set to `0.1` -- this flag is only used in sample-based generation modes. You should set `do_sample=True` or unset `temperature`.\n",
      "  warnings.warn(\n",
      "Setting `pad_token_id` to `eos_token_id`:2 for open-end generation.\n"
     ]
    },
    {
     "name": "stdout",
     "output_type": "stream",
     "text": [
      "行 30 的答案: {'context': 'Carolina Materials Database has description \"Welcome to Carolina Materials Database created in Jianjun Hu\\'s and Ming Hu\\'s groups at University of South Carolina. A freely, globally accessible database of 38,716 inorganic material compounds with over 80,000 calculated properties, and growing.\"', 'question': 'What is the repository for \"BAM reference data\"?', 'text': ' The repository for \"BAM reference data\" is not mentioned in the provided context.'}\n",
      "已处理 30 / 38 行\n"
     ]
    },
    {
     "name": "stderr",
     "output_type": "stream",
     "text": [
      "C:\\Users\\crown\\AppData\\Roaming\\Python\\Python39\\site-packages\\transformers\\pipelines\\base.py:1123: UserWarning: You seem to be using the pipelines sequentially on GPU. In order to maximize efficiency please use a dataset\n",
      "  warnings.warn(\n",
      "C:\\Users\\crown\\AppData\\Roaming\\Python\\Python39\\site-packages\\transformers\\generation\\configuration_utils.py:392: UserWarning: `do_sample` is set to `False`. However, `temperature` is set to `0.1` -- this flag is only used in sample-based generation modes. You should set `do_sample=True` or unset `temperature`.\n",
      "  warnings.warn(\n",
      "Setting `pad_token_id` to `eos_token_id`:2 for open-end generation.\n"
     ]
    },
    {
     "name": "stdout",
     "output_type": "stream",
     "text": [
      "行 31 的答案: {'context': 'Carolina Materials Database has description \"Welcome to Carolina Materials Database created in Jianjun Hu\\'s and Ming Hu\\'s groups at University of South Carolina. A freely, globally accessible database of 38,716 inorganic material compounds with over 80,000 calculated properties, and growing.\"', 'question': 'What are the different data formats in the \"BAM reference data\"?', 'text': '\\nThe BAM reference data format includes two types of files:.bam and.pdbq. These files contain information about the crystal structures of various materials, including their atomic coordinates, bond lengths, angles, and other relevant properties.'}\n",
      "已处理 31 / 38 行\n"
     ]
    },
    {
     "name": "stderr",
     "output_type": "stream",
     "text": [
      "C:\\Users\\crown\\AppData\\Roaming\\Python\\Python39\\site-packages\\transformers\\pipelines\\base.py:1123: UserWarning: You seem to be using the pipelines sequentially on GPU. In order to maximize efficiency please use a dataset\n",
      "  warnings.warn(\n",
      "C:\\Users\\crown\\AppData\\Roaming\\Python\\Python39\\site-packages\\transformers\\generation\\configuration_utils.py:392: UserWarning: `do_sample` is set to `False`. However, `temperature` is set to `0.1` -- this flag is only used in sample-based generation modes. You should set `do_sample=True` or unset `temperature`.\n",
      "  warnings.warn(\n",
      "Setting `pad_token_id` to `eos_token_id`:2 for open-end generation.\n"
     ]
    },
    {
     "name": "stdout",
     "output_type": "stream",
     "text": [
      "行 32 的答案: {'context': 'Qe-tools has programming Language  python; Qe-tools has  description \"A set of useful tools for Quantum ESPRESSO\"; eLabFTW has Version \"4.3.9\"; eLabFTW has  description \"eLabFTW is an electronic lab notebook manager for research teams. It lets you store and organize your research experiments easily. It also features a database where any kind of objects (such as antibodies, plasmids, cell lines, boxes, etc.) can be stored. It is accessed via the browser\"; pacemaker has Version \"0.2.7\"; pacemaker has  description \"a tool for fitting of interatomic potentials in a general nonlinear Atomic Cluster Expansion (ACE) form. \"', 'question': 'What is the software version of \"pacemaker\"?', 'text': '\\nThe software version of \"pacemaker\" is \"0.2.7\".'}\n",
      "已处理 32 / 38 行\n"
     ]
    },
    {
     "name": "stderr",
     "output_type": "stream",
     "text": [
      "C:\\Users\\crown\\AppData\\Roaming\\Python\\Python39\\site-packages\\transformers\\pipelines\\base.py:1123: UserWarning: You seem to be using the pipelines sequentially on GPU. In order to maximize efficiency please use a dataset\n",
      "  warnings.warn(\n",
      "C:\\Users\\crown\\AppData\\Roaming\\Python\\Python39\\site-packages\\transformers\\generation\\configuration_utils.py:392: UserWarning: `do_sample` is set to `False`. However, `temperature` is set to `0.1` -- this flag is only used in sample-based generation modes. You should set `do_sample=True` or unset `temperature`.\n",
      "  warnings.warn(\n",
      "Setting `pad_token_id` to `eos_token_id`:2 for open-end generation.\n"
     ]
    },
    {
     "name": "stdout",
     "output_type": "stream",
     "text": [
      "行 33 的答案: {'context': ':n11f452d15b2c4c7492b23cc31220e483b21 has first element educational resource; :n11f452d15b2c4c7492b23cc31220e483b29 has first element educational resource; :n11f452d15b2c4c7492b23cc31220e483b33 has first element educational resource; Phonon database at Kyoto university has contact point Togo; Phonon database at Kyoto university has description \"It’s getting to be a mainstream idea collecting a big set of ab-initio calculations and analyzing them by informatics approach. For scientific purpose, we plan to do it for phonon properties. As an attempt, we have run a set of ab-initio phonon calculations and left the raw data on this static web site. The aim of this web site is just leaving the data to distribute.\"; Dr. Rainer Stotzka has expertise in Research data infrastructure; Dr. Rossella Aversa has expertise in Research data infrastructure; Carolina Materials Database has description \"Welcome to Carolina Materials Database created in Jianjun Hu\\'s and Ming Hu\\'s groups at University of South Carolina. A freely, globally accessible database of 38,716 inorganic material compounds with over 80,000 calculated properties, and growing.\"', 'question': 'What is the field of research \"BAM reference data\"?', 'text': '\\nThe provided context does not mention any specific field of research called \"BAM reference data\".'}\n",
      "已处理 33 / 38 行\n"
     ]
    },
    {
     "name": "stderr",
     "output_type": "stream",
     "text": [
      "C:\\Users\\crown\\AppData\\Roaming\\Python\\Python39\\site-packages\\transformers\\pipelines\\base.py:1123: UserWarning: You seem to be using the pipelines sequentially on GPU. In order to maximize efficiency please use a dataset\n",
      "  warnings.warn(\n",
      "C:\\Users\\crown\\AppData\\Roaming\\Python\\Python39\\site-packages\\transformers\\generation\\configuration_utils.py:392: UserWarning: `do_sample` is set to `False`. However, `temperature` is set to `0.1` -- this flag is only used in sample-based generation modes. You should set `do_sample=True` or unset `temperature`.\n",
      "  warnings.warn(\n",
      "Setting `pad_token_id` to `eos_token_id`:2 for open-end generation.\n"
     ]
    },
    {
     "name": "stdout",
     "output_type": "stream",
     "text": [
      "行 34 的答案: {'context': 'Carolina Materials Database has description \"Welcome to Carolina Materials Database created in Jianjun Hu\\'s and Ming Hu\\'s groups at University of South Carolina. A freely, globally accessible database of 38,716 inorganic material compounds with over 80,000 calculated properties, and growing.\"', 'question': 'What is the description of the \"BAM reference data\"?', 'text': '\\nThe BAM (Binary Accelerated Model) reference data is not mentioned in the provided context or question.'}\n",
      "已处理 34 / 38 行\n"
     ]
    },
    {
     "name": "stderr",
     "output_type": "stream",
     "text": [
      "C:\\Users\\crown\\AppData\\Roaming\\Python\\Python39\\site-packages\\transformers\\pipelines\\base.py:1123: UserWarning: You seem to be using the pipelines sequentially on GPU. In order to maximize efficiency please use a dataset\n",
      "  warnings.warn(\n",
      "C:\\Users\\crown\\AppData\\Roaming\\Python\\Python39\\site-packages\\transformers\\generation\\configuration_utils.py:392: UserWarning: `do_sample` is set to `False`. However, `temperature` is set to `0.1` -- this flag is only used in sample-based generation modes. You should set `do_sample=True` or unset `temperature`.\n",
      "  warnings.warn(\n",
      "Setting `pad_token_id` to `eos_token_id`:2 for open-end generation.\n"
     ]
    },
    {
     "name": "stdout",
     "output_type": "stream",
     "text": [
      "行 35 的答案: {'context': 'nan', 'question': 'What are the datasets produced in 2022?', 'text': \"\\nThere isn't enough context provided for me to accurately determine what specific datasets were produced in 2022. Can you please provide more information or clarify your question?\"}\n",
      "已处理 35 / 38 行\n"
     ]
    },
    {
     "name": "stderr",
     "output_type": "stream",
     "text": [
      "C:\\Users\\crown\\AppData\\Roaming\\Python\\Python39\\site-packages\\transformers\\pipelines\\base.py:1123: UserWarning: You seem to be using the pipelines sequentially on GPU. In order to maximize efficiency please use a dataset\n",
      "  warnings.warn(\n",
      "C:\\Users\\crown\\AppData\\Roaming\\Python\\Python39\\site-packages\\transformers\\generation\\configuration_utils.py:392: UserWarning: `do_sample` is set to `False`. However, `temperature` is set to `0.1` -- this flag is only used in sample-based generation modes. You should set `do_sample=True` or unset `temperature`.\n",
      "  warnings.warn(\n",
      "Setting `pad_token_id` to `eos_token_id`:2 for open-end generation.\n"
     ]
    },
    {
     "name": "stdout",
     "output_type": "stream",
     "text": [
      "行 36 的答案: {'context': 'Electronic Structure Common Data Format (ESCDF) has description \"This project gathers the working documents used to design the specifications\\nof the Electronic Structure Common Data Format (ESCDF), an initiative of the\\nElectronic Structure Library (ESL) Contributors.\\n\"; Carolina Materials Database has description \"Welcome to Carolina Materials Database created in Jianjun Hu\\'s and Ming Hu\\'s groups at University of South Carolina. A freely, globally accessible database of 38,716 inorganic material compounds with over 80,000 calculated properties, and growing.\"', 'question': 'Who is the creators of the \"BAM reference data\"?', 'text': '\\nThe provided text does not mention any creator for the \"BAM reference data\".'}\n",
      "已处理 36 / 38 行\n"
     ]
    },
    {
     "name": "stderr",
     "output_type": "stream",
     "text": [
      "C:\\Users\\crown\\AppData\\Roaming\\Python\\Python39\\site-packages\\transformers\\pipelines\\base.py:1123: UserWarning: You seem to be using the pipelines sequentially on GPU. In order to maximize efficiency please use a dataset\n",
      "  warnings.warn(\n",
      "C:\\Users\\crown\\AppData\\Roaming\\Python\\Python39\\site-packages\\transformers\\generation\\configuration_utils.py:392: UserWarning: `do_sample` is set to `False`. However, `temperature` is set to `0.1` -- this flag is only used in sample-based generation modes. You should set `do_sample=True` or unset `temperature`.\n",
      "  warnings.warn(\n",
      "Setting `pad_token_id` to `eos_token_id`:2 for open-end generation.\n"
     ]
    },
    {
     "name": "stdout",
     "output_type": "stream",
     "text": [
      "行 37 的答案: {'context': 'Framework for curation and distribution of reference datasets related participant project is Bundesanstalt für Materialforschung und -prüfung (BAM); Ontologies for defects in crystals related participant project is Bundesanstalt für Materialforschung und -prüfung (BAM); NOMAD Metainfo has documentation https://nomad-lab.eu/services/metainfo; NOMAD Metainfo has description \"The NOMAD Metainfo stores descriptive and structured information about materials-science data contained in the NOMAD Archive\"', 'question': 'What are the datasets published by \"BAM\"?', 'text': ' Datasets published by BAM include those related to their participant projects on frameworks for curation and distribution of reference datasets, as well as ontologies for defects in crystals.'}\n",
      "已处理 37 / 38 行\n",
      "行 38 的答案: {'context': 'nan', 'question': 'Average', 'text': '\\n\\n\\n\\n\\n\\n\\n\\n\\n\\n\\n\\n\\n\\n\\n\\n\\n\\n\\n\\n\\n\\n\\n\\n\\n\\n\\n\\n\\n\\n\\n\\n\\n\\n\\n\\n\\n\\n\\n\\n\\n\\n\\n\\n\\n\\n\\n\\n\\n\\n\\n\\n\\n\\n\\n\\n\\n\\n\\n\\n\\n\\n\\n\\n\\n\\n\\n\\n\\n\\n\\n\\n\\n\\n\\n\\n\\n\\n\\n\\n\\n\\n\\n\\n\\n\\n\\n\\n\\n\\n\\n\\n\\n\\n\\n\\n\\n\\n\\n\\n\\n\\n\\n\\n\\n\\n\\n\\n\\n\\n\\n\\n\\n\\n\\n\\n\\n\\n\\n\\n\\n\\n\\n\\n\\n\\n\\n\\n\\n\\n\\n\\n\\n\\n\\n\\n\\n\\n\\n\\n\\n\\n\\n\\n\\n\\n\\n\\n\\n\\n\\n\\n\\n\\n\\n\\n\\n\\n\\n\\n\\n\\n\\n\\n\\n\\n\\n\\n\\n\\n\\n\\n\\n\\n\\n\\n\\n\\n\\n\\n\\n\\n\\n\\n\\n\\n\\n\\n\\n\\n\\n\\n\\n\\n\\n\\n\\n\\n\\n\\n\\n\\n\\n\\n\\n\\n\\n\\n\\n\\n\\n\\n\\n\\n\\n\\n\\n\\n\\n\\n\\n\\n\\n\\n\\n\\n\\n\\n\\n\\n\\n\\n\\n\\n\\n\\n\\n\\n\\n\\n\\n\\n\\n\\n\\n\\n\\n\\n\\n\\n\\n\\n\\n\\n\\n\\n\\n\\n\\n\\n\\n\\n\\n\\n\\n\\n\\n\\n\\n\\n\\n\\n\\n\\n\\n\\n\\n\\n\\n\\n\\n\\n\\n\\n\\n\\n\\n\\n\\n\\n\\n\\n\\n\\n\\n\\n\\n\\n\\n\\n\\n\\n\\n\\n\\n\\n\\n\\n\\n\\n\\n\\n\\n\\n\\n\\n\\n\\n\\n\\n\\n\\n\\n\\n\\n\\n\\n\\n\\n\\n\\n\\n\\n\\n\\n\\n\\n\\n\\n\\n\\n\\n\\n\\n\\n\\n\\n\\n\\n\\n\\n\\n\\n\\n\\n\\n\\n\\n\\n\\n\\n\\n\\n\\n\\n\\n\\n\\n\\n\\n\\n\\n\\n\\n\\n\\n\\n\\n\\n\\n\\n\\n\\n\\n\\n\\n\\n\\n\\n\\n\\n\\n\\n\\n\\n\\n\\n\\n\\n\\n\\n\\n\\n\\n\\n\\n\\n\\n\\n\\n\\n\\n\\n\\n\\n\\n\\n\\n\\n\\n\\n\\n\\n\\n\\n\\n\\n\\n\\n\\n\\n\\n\\n\\n\\n\\n\\n\\n\\n\\n\\n\\n\\n\\n\\n\\n\\n\\n\\n\\n\\n\\n\\n\\n\\n\\n\\n\\n\\n\\n\\n\\n\\n\\n\\n\\n\\n\\n\\n\\n\\n\\n\\n\\n\\n\\n\\n\\n\\n\\n\\n\\n\\n\\n\\n\\n\\n\\n\\n\\n\\n\\n\\n\\n\\n\\n\\n\\n\\n\\n\\n\\n\\n\\n\\n\\n\\n\\n\\n\\n\\n\\n\\n\\n\\n\\n\\n\\n\\n\\n\\n\\n\\n\\n\\n\\n\\n\\n\\n\\n\\n\\n\\n\\n\\n\\n\\n\\n\\n\\n\\n\\n\\n\\n\\n\\n\\n\\n\\n\\n\\n\\n\\n\\n\\n\\n\\n\\n\\n\\n\\n\\n\\n\\n\\n\\n\\n\\n\\n\\n\\n\\n\\n\\n\\n\\n\\n\\n\\n\\n\\n\\n\\n\\n\\n\\n\\n\\n\\n\\n\\n\\n\\n\\n\\n\\n\\n\\n\\n\\n\\n\\n\\n\\n\\n\\n\\n\\n\\n\\n\\n\\n\\n\\n\\n\\n\\n\\n\\n\\n\\n\\n\\n\\n\\n\\n\\n\\n\\n\\n\\n\\n\\n\\n\\n\\n\\n\\n\\n\\n\\n\\n\\n\\n\\n\\n\\n\\n\\n\\n\\n\\n\\n\\n\\n\\n\\n\\n\\n\\n\\n\\n\\n\\n\\n\\n\\n\\n\\n\\n\\n\\n\\n\\n\\n\\n\\n\\n\\n\\n\\n\\n\\n\\n\\n\\n\\n\\n\\n\\n\\n\\n\\n\\n\\n\\n\\n\\n\\n\\n'}\n",
      "已处理 38 / 38 行\n"
     ]
    }
   ],
   "source": [
    "import pandas as pd\n",
    "\n",
    "# Assume llm_chain is already defined\n",
    "\n",
    "def process_dataframe(file_path, output_file_path):\n",
    "    # Load data from Excel file\n",
    "    df = pd.read_excel(file_path)\n",
    "\n",
    "    # Iterate through each row of the DataFrame\n",
    "    for index, row in df.iterrows():\n",
    "        # Extract context and question from each row, ensuring they are of string type\n",
    "        context = str(row['Context'])\n",
    "        question = str(row['Competency Question'])\n",
    "\n",
    "        # Call the llm_chain method to get the result\n",
    "        result = llm_chain.invoke({\"context\": context, \"question\": question})\n",
    "\n",
    "        # Save the result in the 'Predicted Answer' column\n",
    "        df.at[index, 'Predicted Answer'] = result\n",
    "\n",
    "        # Print the obtained answer\n",
    "        print(f\"Answer for row {index + 1}: {result}\")\n",
    "\n",
    "        # Print the current row being processed to provide progress feedback\n",
    "        print(f\"Processed {index + 1} / {len(df)} rows\")\n",
    "\n",
    "    # Write the modified DataFrame back to a new Excel file\n",
    "    df.to_excel(output_file_path, index=False)\n",
    "\n",
    "\n",
    "\n",
    "# Processing the file\n",
    "process_dataframe('C:/Users/crown/Desktop/RAG mistral 7b v1/train_dataset.xlsx', \n",
    "                  'C:/Users/crown/Desktop/RAG mistral 7b v1/v1_training_result.xlsx')  \n",
    "### These are the input file and out put file\n",
    "\n",
    "\n"
   ]
  },
  {
   "cell_type": "code",
   "execution_count": 10,
   "metadata": {
    "pycharm": {
     "name": "#%%\n"
    }
   },
   "outputs": [],
   "source": [
    "df=pd.read_excel('C:/Users/crown/Desktop/RAG mistral 7b v1/v1_training_result.xlsx')"
   ]
  },
  {
   "cell_type": "code",
   "execution_count": 11,
   "metadata": {
    "pycharm": {
     "name": "#%%\n"
    }
   },
   "outputs": [],
   "source": [
    "df['Predicted_Answer'] = df['Predicted Answer'].astype(str)"
   ]
  },
  {
   "cell_type": "code",
   "execution_count": 12,
   "metadata": {
    "pycharm": {
     "name": "#%%\n"
    }
   },
   "outputs": [],
   "source": [
    "import re\n",
    "\n",
    "# Add a new column 'answer_text'\n",
    "df['answer_text'] = ''\n",
    "\n",
    "# Use regular expression to match the content after 'text':\n",
    "text_pattern = re.compile(r\"'text':(.+?)}\", re.DOTALL)\n",
    "\n",
    "# Iterate through DataFrame and extract content\n",
    "for index, row in df.iterrows():\n",
    "    predicted_answer = row['Predicted_Answer']\n",
    "    match = text_pattern.search(predicted_answer)\n",
    "    if match:\n",
    "        # Extract matched content\n",
    "        answer_text = match.group(1)\n",
    "    else:\n",
    "        answer_text = \"no answer\"  # Set default value if no match is found\n",
    "\n",
    "    # Store the extracted content in the new column\n",
    "    df.at[index, 'answer_text'] = answer_text\n"
   ]
  },
  {
   "cell_type": "code",
   "execution_count": 13,
   "metadata": {
    "pycharm": {
     "name": "#%%\n"
    }
   },
   "outputs": [],
   "source": [
    "\n",
    "df['answer_text'] = df['answer_text'].str.replace('\\n', ' ', regex=False)\n",
    "\n",
    "df['answer_text'] = df['answer_text'].str.replace(r'\\*\\s*', ' ', regex=True)\n",
    "\n",
    "df['answer_text'] = df['answer_text'].str.replace(r'\\\\n', ' ', regex=True)\n",
    "\n",
    "df['answer_text'] = df['answer_text'].str.replace(\"'\", \"\", regex=False)\n",
    "\n",
    "df.to_excel('C:/Users/crown/Desktop/RAG mistral 7b v1/v1_training_result.xlsx')"
   ]
  },
  {
   "cell_type": "markdown",
   "metadata": {
    "pycharm": {
     "name": "#%% md\n"
    }
   },
   "source": [
    "#### Evaluation"
   ]
  },
  {
   "cell_type": "code",
   "execution_count": 48,
   "metadata": {
    "pycharm": {
     "name": "#%%\n"
    }
   },
   "outputs": [
    {
     "name": "stderr",
     "output_type": "stream",
     "text": [
      "C:\\Users\\crown\\AppData\\Roaming\\Python\\Python39\\site-packages\\transformers\\generation\\configuration_utils.py:362: UserWarning: `do_sample` is set to `False`. However, `temperature` is set to `0.2` -- this flag is only used in sample-based generation modes. You should set `do_sample=True` or unset `temperature`.\n",
      "  warnings.warn(\n",
      "Setting `pad_token_id` to `eos_token_id`:2 for open-end generation.\n"
     ]
    },
    {
     "data": {
      "text/plain": [
       "{'context': [Document(page_content='Averaging 45.3 receiving yards per game this season, Alvin Kamara has been a\\nfocal point of the aerial attack with Derek Carr at quarterback. Kamara has\\naveraged 42.8 receiving yards per game over his career but saw a dip in\\nconsecutive years with Andy Dalton at quarterback. Now armed with an upgrade\\nunder Center and multiple weapons at wideout to keep the defensive attention\\noff him, Kamara is back to elite receiving numbers for a running back. Kamara\\nhas recorded 36 or more receiving yards in four of his last five games and has\\ntopped 33 or more in five of six games this season. He is being peppered with\\ntargets regardless of opponent and should be leaned on again in Week 10. Tap\\nthe More on Kamara for Week 10.', metadata={'source': 'https://www.fantasypros.com/2023/11/nfl-week-10-sleeper-picks-player-predictions-2023/', 'title': 'NFL Week 10 Sleeper Picks Player Predictions (2023) | FantasyPros', 'description': 'Welcome to Sleeper Picks. Sleeper’s newest offering promised plenty of entertainment and action, and they delivered. We will break down our top three picks for this week’s NFL action. Sleeper is quickly becoming one of the most popular season-long fantasy …  read more »\\n', 'language': 'en'}),\n",
       "  Document(page_content='### **Alvin Kamara (RB- NO): 34.5 receiving yards**', metadata={'source': 'https://www.fantasypros.com/2023/11/nfl-week-10-sleeper-picks-player-predictions-2023/', 'title': 'NFL Week 10 Sleeper Picks Player Predictions (2023) | FantasyPros', 'description': 'Welcome to Sleeper Picks. Sleeper’s newest offering promised plenty of entertainment and action, and they delivered. We will break down our top three picks for this week’s NFL action. Sleeper is quickly becoming one of the most popular season-long fantasy …  read more »\\n', 'language': 'en'}),\n",
       "  Document(page_content='\" **De \\'Von Achane** exploded onto the scene and compiled over 100 points in\\njust three weeks. He is just weeks away from returning, and the time to buy is\\nnow. Take advantage of an impatient owner and go stash Achane. Ask yourself\\nthis question. When the fantasy football playoffs come around, do I want\\nAchane on my team, or do I want to be facing him? Go get Achane!\"  \\n- David Heilman (Sports Gambling Podcast Network)', metadata={'source': 'https://www.fantasypros.com/2023/11/players-to-buy-low-sell-high-trade-advice-2023-fantasy-football/', 'title': '16 Players to Buy Low & Sell High (2023 Fantasy Football) | FantasyPros', 'description': 'Winning the trade market is at least as important as nailing the draft. Aside from the waiver wire’s massive impact in the season’s first few weeks, trading is the best way to improve your squad quickly. Great buy-low moves can …  read more »\\n', 'language': 'en'}),\n",
       "  Document(page_content='DFS NFL Sleeper Picks Alvin Kamara Derek Carr Andy Dalton Amari Cooper Deshaun\\nWatson Dorian Thompson-Robinson PJ Walker CeeDee Lamb', metadata={'source': 'https://www.fantasypros.com/2023/11/nfl-week-10-sleeper-picks-player-predictions-2023/', 'title': 'NFL Week 10 Sleeper Picks Player Predictions (2023) | FantasyPros', 'description': 'Welcome to Sleeper Picks. Sleeper’s newest offering promised plenty of entertainment and action, and they delivered. We will break down our top three picks for this week’s NFL action. Sleeper is quickly becoming one of the most popular season-long fantasy …  read more »\\n', 'language': 'en'})],\n",
       " 'question': 'Should I pick up Alvin Kamara for my fantasy team?',\n",
       " 'text': \" Based on the information provided, it appears that Alvin Kamara has been performing well this season and is expected to continue doing so. He has averaged 45.3 receiving yards per game this season and has seen a significant improvement in his performance since switching to Derek Carr at quarterback. Additionally, he has recorded 36 or more receiving yards in four of his last five games and has topped 33 or more in five of six games this season. Given these statistics, it may be worth considering adding Kamara to your fantasy team if you are looking for a reliable receiver. However, it is important to keep in mind that there are many other players available in the league and you should carefully consider your team's needs and the specific matchup before making any decisions.\"}"
      ]
     },
     "execution_count": 48,
     "metadata": {},
     "output_type": "execute_result"
    }
   ],
   "source": [
    "import pandas as pd\n",
    "from rouge import Rouge\n",
    "from nltk.translate.bleu_score import sentence_bleu\n",
    "from sentence_transformers import SentenceTransformer, util\n",
    "\n",
    "# Define paths\n",
    "excel_file_path = 'C:/Users/crown/Desktop/RAG mistral 7b v1/v1_training_result.xlsx'\n",
    "output_file_path = 'C:/Users/crown/Desktop/RAG mistral 7b v1/v1_training_result_with_score.xlsx'\n",
    "\n",
    "# Read Excel file\n",
    "df = pd.read_excel(excel_file_path, usecols=['Competency Question', 'Context', 'Ground Truth', 'answer_text'])\n",
    "\n",
    "# Initialize scorers\n",
    "rouge = Rouge()\n",
    "sbert_model = SentenceTransformer('all-MiniLM-L6-v2')\n",
    "\n",
    "# Prepare a dictionary to store scores\n",
    "scores_dict = {\n",
    "    \"ROUGE-1-f\": [], \"ROUGE-1-p\": [], \"ROUGE-1-r\": [],\n",
    "    \"ROUGE-2-f\": [], \"ROUGE-2-p\": [], \"ROUGE-2-r\": [],\n",
    "    \"ROUGE-L-f\": [], \"ROUGE-L-p\": [], \"ROUGE-L-r\": [],\n",
    "    \"BLEU\": [],\n",
    "    \"SBERT-Similarity\": []\n",
    "}\n",
    "\n",
    "# Calculate scores\n",
    "for _, row in df.iterrows():\n",
    "    ground_truth = str(row['Ground Truth']) if not pd.isnull(row['Ground Truth']) else \"\"\n",
    "    predicted_answer = str(row['answer_text']) if not pd.isnull(row['answer_text']) else \"\"\n",
    "    \n",
    "    # Calculate ROUGE scores\n",
    "    if ground_truth and predicted_answer:\n",
    "        rouge_scores = rouge.get_scores(predicted_answer, ground_truth)[0]\n",
    "        for key in scores_dict:\n",
    "            if key.startswith(\"ROUGE\"):\n",
    "                rouge_type, rouge_metric = key.split('-')[1], key.split('-')[2]\n",
    "                scores_dict[key].append(rouge_scores['rouge-{}'.format(rouge_type.lower())][rouge_metric])\n",
    "    else:\n",
    "        for key in scores_dict:\n",
    "            if key.startswith(\"ROUGE\"):\n",
    "                scores_dict[key].append(None)\n",
    "    \n",
    "    # Calculate BLEU score\n",
    "    reference = ground_truth.split()\n",
    "    candidate = predicted_answer.split()\n",
    "    bleu_score = sentence_bleu([reference], candidate, weights=(0.25, 0.25, 0.25, 0.25)) if ground_truth and predicted_answer else None\n",
    "    scores_dict[\"BLEU\"].append(bleu_score)\n",
    "    \n",
    "    # Calculate SBERT-Similarity score\n",
    "    if ground_truth and predicted_answer:\n",
    "        embeddings1 = sbert_model.encode([ground_truth], convert_to_tensor=True)\n",
    "        embeddings2 = sbert_model.encode([predicted_answer], convert_to_tensor=True)\n",
    "        cos_sim = util.pytorch_cos_sim(embeddings1, embeddings2)\n",
    "        scores_dict[\"SBERT-Similarity\"].append(cos_sim.item())\n",
    "    else:\n",
    "        scores_dict[\"SBERT-Similarity\"].append(None)\n",
    "\n",
    "# Add scores to DataFrame\n",
    "for key, value in scores_dict.items():\n",
    "    df[key] = value\n",
    "\n",
    "# Save to Excel file\n",
    "df.to_excel(output_file_path, index=False)\n",
    "\n",
    "print(f\"Scores have been calculated and the results are saved to: {output_file_path}\")\n"
   ]
  },
  {
   "cell_type": "code",
   "execution_count": null,
   "metadata": {
    "pycharm": {
     "name": "#%%\n"
    }
   },
   "outputs": [],
   "source": [
    "import pandas as pd\n",
    "import matplotlib.pyplot as plt\n",
    "\n",
    "# Load Excel file\n",
    "output_file_path = 'C:/Users/crown/Desktop/RAG mistral 7b v1/v1_training_result_with_score.xlsx'\n",
    "df = pd.read_excel(output_file_path)\n",
    "\n",
    "# Specify columns to compute mean\n",
    "columns_to_mean = [\n",
    "    'BLEU', 'SBERT-Similarity',\n",
    "    'ROUGE-1-f', 'ROUGE-1-p', 'ROUGE-1-r',\n",
    "    'ROUGE-2-f', 'ROUGE-2-p', 'ROUGE-2-r',\n",
    "    'ROUGE-L-f', 'ROUGE-L-p', 'ROUGE-L-r'\n",
    "]\n",
    "\n",
    "# Compute mean\n",
    "means = df[columns_to_mean].mean()\n",
    "\n",
    "# Visualization\n",
    "ax = means.plot(kind='bar', figsize=(10, 6), color='skyblue', fontsize=13)\n",
    "\n",
    "plt.title('Average Scores')\n",
    "plt.xlabel('Metric')\n",
    "plt.ylabel('Average Score')\n",
    "plt.xticks(rotation=45, ha='right')  # Rotate x-axis labels for readability\n",
    "plt.tight_layout()  # Automatically adjust subplot parameters to give specified padding\n",
    "\n",
    "# Add values above each bar\n",
    "for i in ax.patches:\n",
    "    ax.text(i.get_x() + i.get_width() / 2, i.get_height(), f'{i.get_height():.2f}', ha='center', va='bottom')\n",
    "\n",
    "plt.show()\n"
   ]
  }
 ],
 "metadata": {
  "kernelspec": {
   "display_name": "aiss",
   "language": "python",
   "name": "python3"
  },
  "language_info": {
   "codemirror_mode": {
    "name": "ipython",
    "version": 3
   },
   "file_extension": ".py",
   "mimetype": "text/x-python",
   "name": "python",
   "nbconvert_exporter": "python",
   "pygments_lexer": "ipython3",
   "version": "3.9.15"
  }
 },
 "nbformat": 4,
 "nbformat_minor": 2
}
